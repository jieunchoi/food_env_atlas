{
 "cells": [
  {
   "cell_type": "code",
   "execution_count": 1,
   "metadata": {},
   "outputs": [],
   "source": [
    "%matplotlib inline\n",
    "import numpy as np\n",
    "import pandas as pd\n",
    "import glob\n",
    "import matplotlib.pyplot as plt\n",
    "import seaborn as sns\n",
    "import random\n",
    "from sklearn import preprocessing\n",
    "from sklearn import model_selection\n",
    "\n",
    "from sklearn.linear_model import LinearRegression\n",
    "from sklearn.neighbors import KNeighborsRegressor\n",
    "from sklearn.ensemble import GradientBoostingRegressor\n",
    "from sklearn.ensemble import RandomForestRegressor\n",
    "from sklearn.svm import SVR\n",
    "\n",
    "sns.set_context(\"notebook\")"
   ]
  },
  {
   "cell_type": "markdown",
   "metadata": {
    "heading_collapsed": true
   },
   "source": [
    "# Intro: Food Environment Atlas\n",
    "The [FEA](https://www.ers.usda.gov/data-products/food-environment-atlas/) is a publicly available dataset compiled by the US Department of Agriculture. According to the website, \n",
    "\n",
    ">Food environment factors—such as store/restaurant proximity, food prices, food and nutrition assistance programs, and community characteristics—interact to influence food choices and diet quality. These interactions are complex and more research is needed to identify causal relationships and effective policy interventions.\n",
    "\n",
    ">The objectives of the Atlas are:\n",
    "\n",
    ">to assemble statistics on food environment indicators to stimulate research on the determinants of food choices and diet quality, and\n",
    "to provide a spatial overview of a community's ability to access healthy food and its success in doing so.\"\n",
    "\n",
    "This is a compilation of over 275 food environment indicators for every U.S. county. The data were collected from a variety of sources between the years 2007 and 2016.\n",
    "\n",
    "The objective is to predict the adult obesity rate for 2013 (see the [documentation](https://www.ers.usda.gov/data-products/food-environment-atlas/documentation/) for more details) based on the available data. "
   ]
  },
  {
   "cell_type": "markdown",
   "metadata": {
    "heading_collapsed": true
   },
   "source": [
    "# Misc. Helper Functions"
   ]
  },
  {
   "cell_type": "code",
   "execution_count": 2,
   "metadata": {
    "hidden": true
   },
   "outputs": [],
   "source": [
    "def convert2log(label, X):\n",
    "    X['LOG10_'+label] = X[label].apply(np.log10)\n",
    "    X = X.drop(axis=1, labels=[label])\n",
    "    \n",
    "    return X"
   ]
  },
  {
   "cell_type": "code",
   "execution_count": 3,
   "metadata": {
    "hidden": true
   },
   "outputs": [
    {
     "name": "stdout",
     "output_type": "stream",
     "text": [
      "PCH_AGRITRSM_RCT_07_12:  Agritourism receipts (% change), 2007 - 12\n"
     ]
    }
   ],
   "source": [
    "def variable_lookup(input_var):\n",
    "    lookup_table = pd.read_csv(\"/Users/jieunchoi/DataScience/food_environment_atlas/csv_files/meta/Variable List-Table 1.csv\")\n",
    "    print(input_var+': ',lookup_table[lookup_table['Variable Code'] == input_var]['Variable Name'].values[0])\n",
    "\n",
    "variable_lookup('PCH_AGRITRSM_RCT_07_12')"
   ]
  },
  {
   "cell_type": "code",
   "execution_count": 4,
   "metadata": {
    "hidden": true
   },
   "outputs": [],
   "source": [
    "def convert_state_names(n, abbr=False):\n",
    "    \"\"\"https://gist.github.com/rogerallen/1583593\"\"\"\n",
    "\n",
    "    us_state_abbrev = {\n",
    "    'Alabama': 'AL',\n",
    "    'Alaska': 'AK',\n",
    "    'Arizona': 'AZ',\n",
    "    'Arkansas': 'AR',\n",
    "    'California': 'CA',\n",
    "    'Colorado': 'CO',\n",
    "    'Connecticut': 'CT',\n",
    "    'Delaware': 'DE',\n",
    "    'District of Columbia': 'DC',\n",
    "    'Florida': 'FL',\n",
    "    'Georgia': 'GA',\n",
    "    'Hawaii': 'HI',\n",
    "    'Idaho': 'ID',\n",
    "    'Illinois': 'IL',\n",
    "    'Indiana': 'IN',\n",
    "    'Iowa': 'IA',\n",
    "    'Kansas': 'KS',\n",
    "    'Kentucky': 'KY',\n",
    "    'Louisiana': 'LA',\n",
    "    'Maine': 'ME',\n",
    "    'Maryland': 'MD',\n",
    "    'Massachusetts': 'MA',\n",
    "    'Michigan': 'MI',\n",
    "    'Minnesota': 'MN',\n",
    "    'Mississippi': 'MS',\n",
    "    'Missouri': 'MO',\n",
    "    'Montana': 'MT',\n",
    "    'Nebraska': 'NE',\n",
    "    'Nevada': 'NV',\n",
    "    'New Hampshire': 'NH',\n",
    "    'New Jersey': 'NJ',\n",
    "    'New Mexico': 'NM',\n",
    "    'New York': 'NY',\n",
    "    'North Carolina': 'NC',\n",
    "    'North Dakota': 'ND',\n",
    "    'Ohio': 'OH',\n",
    "    'Oklahoma': 'OK',\n",
    "    'Oregon': 'OR',\n",
    "    'Pennsylvania': 'PA',\n",
    "    'Rhode Island': 'RI',\n",
    "    'South Carolina': 'SC',\n",
    "    'South Dakota': 'SD',\n",
    "    'Tennessee': 'TN',\n",
    "    'Texas': 'TX',\n",
    "    'Utah': 'UT',\n",
    "    'Vermont': 'VT',\n",
    "    'Virginia': 'VA',\n",
    "    'Washington': 'WA',\n",
    "    'West Virginia': 'WV',\n",
    "    'Wisconsin': 'WI',\n",
    "    'Wyoming': 'WY',\n",
    "    }\n",
    "    \n",
    "    if abbr:\n",
    "        result = [x for x in us_state_abbrev.keys() if us_state_abbrev[x] == n][0]\n",
    "        return(result)\n",
    "    else:\n",
    "        return(us_state_abbrev[n])"
   ]
  },
  {
   "cell_type": "markdown",
   "metadata": {
    "heading_collapsed": true
   },
   "source": [
    "# Data Acquisition\n"
   ]
  },
  {
   "cell_type": "markdown",
   "metadata": {
    "hidden": true
   },
   "source": [
    "## Create one big data frame with many columns."
   ]
  },
  {
   "cell_type": "markdown",
   "metadata": {
    "hidden": true
   },
   "source": [
    "Merge the individual tables to make one master dataframe."
   ]
  },
  {
   "cell_type": "code",
   "execution_count": 5,
   "metadata": {
    "hidden": true
   },
   "outputs": [
    {
     "name": "stdout",
     "output_type": "stream",
     "text": [
      "0 SOCIOECONOMIC\n",
      "1 INSECURITY\n",
      "2 ASSISTANCE\n",
      "3 ACCESS\n",
      "4 HEALTH\n",
      "5 PRICES_TAXES\n",
      "6 RESTAURANTS\n",
      "7 STORES\n",
      "8 LOCAL\n"
     ]
    }
   ],
   "source": [
    "df_list = glob.glob('/Users/jieunchoi/DataScience/food_environment_atlas/csv_files/*csv')\n",
    "for i, df_file in enumerate(df_list):\n",
    "    print(i, df_file.split('files/')[-1].split('-Table')[0])\n",
    "    df = pd.read_csv(df_file)\n",
    "    df.rename(columns=lambda x: x.upper().strip(), inplace=True)\n",
    "    if i == 0:\n",
    "        master_df = df.copy()\n",
    "    else:\n",
    "        master_df = master_df.merge(df, on=['FIPS', 'STATE', 'COUNTY'], how='left')"
   ]
  },
  {
   "cell_type": "code",
   "execution_count": 6,
   "metadata": {
    "hidden": true
   },
   "outputs": [
    {
     "data": {
      "text/html": [
       "<div>\n",
       "<style scoped>\n",
       "    .dataframe tbody tr th:only-of-type {\n",
       "        vertical-align: middle;\n",
       "    }\n",
       "\n",
       "    .dataframe tbody tr th {\n",
       "        vertical-align: top;\n",
       "    }\n",
       "\n",
       "    .dataframe thead th {\n",
       "        text-align: right;\n",
       "    }\n",
       "</style>\n",
       "<table border=\"1\" class=\"dataframe\">\n",
       "  <thead>\n",
       "    <tr style=\"text-align: right;\">\n",
       "      <th></th>\n",
       "      <th>FIPS</th>\n",
       "      <th>STATE</th>\n",
       "      <th>COUNTY</th>\n",
       "      <th>PCT_NHWHITE10</th>\n",
       "      <th>PCT_NHBLACK10</th>\n",
       "      <th>PCT_HISP10</th>\n",
       "      <th>PCT_NHASIAN10</th>\n",
       "      <th>PCT_NHNA10</th>\n",
       "      <th>PCT_NHPI10</th>\n",
       "      <th>PCT_65OLDER10</th>\n",
       "      <th>...</th>\n",
       "      <th>CSA12</th>\n",
       "      <th>PCH_CSA_07_12</th>\n",
       "      <th>AGRITRSM_OPS07</th>\n",
       "      <th>AGRITRSM_OPS12</th>\n",
       "      <th>PCH_AGRITRSM_OPS_07_12</th>\n",
       "      <th>AGRITRSM_RCT07</th>\n",
       "      <th>AGRITRSM_RCT12</th>\n",
       "      <th>PCH_AGRITRSM_RCT_07_12</th>\n",
       "      <th>FARM_TO_SCHOOL09</th>\n",
       "      <th>FARM_TO_SCHOOL13</th>\n",
       "    </tr>\n",
       "  </thead>\n",
       "  <tbody>\n",
       "    <tr>\n",
       "      <th>0</th>\n",
       "      <td>1001</td>\n",
       "      <td>AL</td>\n",
       "      <td>Autauga</td>\n",
       "      <td>77.246156</td>\n",
       "      <td>17.582599</td>\n",
       "      <td>2.400542</td>\n",
       "      <td>0.855766</td>\n",
       "      <td>0.397647</td>\n",
       "      <td>0.040314</td>\n",
       "      <td>11.995382</td>\n",
       "      <td>...</td>\n",
       "      <td>3.0</td>\n",
       "      <td>50.000000</td>\n",
       "      <td>7.0</td>\n",
       "      <td>10.0</td>\n",
       "      <td>42.857143</td>\n",
       "      <td>228000.0</td>\n",
       "      <td>146000.0</td>\n",
       "      <td>-35.964912</td>\n",
       "      <td>0.0</td>\n",
       "      <td>NaN</td>\n",
       "    </tr>\n",
       "    <tr>\n",
       "      <th>1</th>\n",
       "      <td>1003</td>\n",
       "      <td>AL</td>\n",
       "      <td>Baldwin</td>\n",
       "      <td>83.504787</td>\n",
       "      <td>9.308425</td>\n",
       "      <td>4.384824</td>\n",
       "      <td>0.735193</td>\n",
       "      <td>0.628755</td>\n",
       "      <td>0.043343</td>\n",
       "      <td>16.771185</td>\n",
       "      <td>...</td>\n",
       "      <td>7.0</td>\n",
       "      <td>-46.153846</td>\n",
       "      <td>18.0</td>\n",
       "      <td>16.0</td>\n",
       "      <td>-11.111111</td>\n",
       "      <td>124000.0</td>\n",
       "      <td>204000.0</td>\n",
       "      <td>64.516129</td>\n",
       "      <td>0.0</td>\n",
       "      <td>0.0</td>\n",
       "    </tr>\n",
       "    <tr>\n",
       "      <th>2</th>\n",
       "      <td>1005</td>\n",
       "      <td>AL</td>\n",
       "      <td>Barbour</td>\n",
       "      <td>46.753105</td>\n",
       "      <td>46.691190</td>\n",
       "      <td>5.051535</td>\n",
       "      <td>0.389700</td>\n",
       "      <td>0.218524</td>\n",
       "      <td>0.087409</td>\n",
       "      <td>14.236807</td>\n",
       "      <td>...</td>\n",
       "      <td>0.0</td>\n",
       "      <td>-100.000000</td>\n",
       "      <td>27.0</td>\n",
       "      <td>32.0</td>\n",
       "      <td>18.518519</td>\n",
       "      <td>163000.0</td>\n",
       "      <td>304000.0</td>\n",
       "      <td>86.503067</td>\n",
       "      <td>0.0</td>\n",
       "      <td>1.0</td>\n",
       "    </tr>\n",
       "    <tr>\n",
       "      <th>3</th>\n",
       "      <td>1007</td>\n",
       "      <td>AL</td>\n",
       "      <td>Bibb</td>\n",
       "      <td>75.020729</td>\n",
       "      <td>21.924504</td>\n",
       "      <td>1.771765</td>\n",
       "      <td>0.096007</td>\n",
       "      <td>0.279293</td>\n",
       "      <td>0.030548</td>\n",
       "      <td>12.681650</td>\n",
       "      <td>...</td>\n",
       "      <td>3.0</td>\n",
       "      <td>50.000000</td>\n",
       "      <td>5.0</td>\n",
       "      <td>6.0</td>\n",
       "      <td>20.000000</td>\n",
       "      <td>NaN</td>\n",
       "      <td>21000.0</td>\n",
       "      <td>NaN</td>\n",
       "      <td>0.0</td>\n",
       "      <td>0.0</td>\n",
       "    </tr>\n",
       "    <tr>\n",
       "      <th>4</th>\n",
       "      <td>1009</td>\n",
       "      <td>AL</td>\n",
       "      <td>Blount</td>\n",
       "      <td>88.887338</td>\n",
       "      <td>1.263040</td>\n",
       "      <td>8.070200</td>\n",
       "      <td>0.200621</td>\n",
       "      <td>0.497191</td>\n",
       "      <td>0.031402</td>\n",
       "      <td>14.722096</td>\n",
       "      <td>...</td>\n",
       "      <td>4.0</td>\n",
       "      <td>-42.857143</td>\n",
       "      <td>10.0</td>\n",
       "      <td>8.0</td>\n",
       "      <td>-20.000000</td>\n",
       "      <td>293000.0</td>\n",
       "      <td>30000.0</td>\n",
       "      <td>-89.761092</td>\n",
       "      <td>0.0</td>\n",
       "      <td>1.0</td>\n",
       "    </tr>\n",
       "  </tbody>\n",
       "</table>\n",
       "<p>5 rows × 280 columns</p>\n",
       "</div>"
      ],
      "text/plain": [
       "   FIPS STATE   COUNTY  PCT_NHWHITE10  PCT_NHBLACK10  PCT_HISP10  \\\n",
       "0  1001    AL  Autauga      77.246156      17.582599    2.400542   \n",
       "1  1003    AL  Baldwin      83.504787       9.308425    4.384824   \n",
       "2  1005    AL  Barbour      46.753105      46.691190    5.051535   \n",
       "3  1007    AL     Bibb      75.020729      21.924504    1.771765   \n",
       "4  1009    AL   Blount      88.887338       1.263040    8.070200   \n",
       "\n",
       "   PCT_NHASIAN10  PCT_NHNA10  PCT_NHPI10  PCT_65OLDER10        ...         \\\n",
       "0       0.855766    0.397647    0.040314      11.995382        ...          \n",
       "1       0.735193    0.628755    0.043343      16.771185        ...          \n",
       "2       0.389700    0.218524    0.087409      14.236807        ...          \n",
       "3       0.096007    0.279293    0.030548      12.681650        ...          \n",
       "4       0.200621    0.497191    0.031402      14.722096        ...          \n",
       "\n",
       "   CSA12  PCH_CSA_07_12  AGRITRSM_OPS07  AGRITRSM_OPS12  \\\n",
       "0    3.0      50.000000             7.0            10.0   \n",
       "1    7.0     -46.153846            18.0            16.0   \n",
       "2    0.0    -100.000000            27.0            32.0   \n",
       "3    3.0      50.000000             5.0             6.0   \n",
       "4    4.0     -42.857143            10.0             8.0   \n",
       "\n",
       "   PCH_AGRITRSM_OPS_07_12  AGRITRSM_RCT07  AGRITRSM_RCT12  \\\n",
       "0               42.857143        228000.0        146000.0   \n",
       "1              -11.111111        124000.0        204000.0   \n",
       "2               18.518519        163000.0        304000.0   \n",
       "3               20.000000             NaN         21000.0   \n",
       "4              -20.000000        293000.0         30000.0   \n",
       "\n",
       "   PCH_AGRITRSM_RCT_07_12  FARM_TO_SCHOOL09  FARM_TO_SCHOOL13  \n",
       "0              -35.964912               0.0               NaN  \n",
       "1               64.516129               0.0               0.0  \n",
       "2               86.503067               0.0               1.0  \n",
       "3                     NaN               0.0               0.0  \n",
       "4              -89.761092               0.0               1.0  \n",
       "\n",
       "[5 rows x 280 columns]"
      ]
     },
     "execution_count": 6,
     "metadata": {},
     "output_type": "execute_result"
    }
   ],
   "source": [
    "master_df.head()"
   ]
  },
  {
   "cell_type": "markdown",
   "metadata": {
    "hidden": true
   },
   "source": [
    "Data types are all numbers except for two, STATE and COUNTY."
   ]
  },
  {
   "cell_type": "code",
   "execution_count": 7,
   "metadata": {
    "hidden": true
   },
   "outputs": [
    {
     "name": "stdout",
     "output_type": "stream",
     "text": [
      "<class 'pandas.core.frame.DataFrame'>\n",
      "Int64Index: 3143 entries, 0 to 3142\n",
      "Columns: 280 entries, FIPS to FARM_TO_SCHOOL13\n",
      "dtypes: float64(248), int64(30), object(2)\n",
      "memory usage: 6.7+ MB\n"
     ]
    }
   ],
   "source": [
    "master_df.info()"
   ]
  },
  {
   "cell_type": "markdown",
   "metadata": {
    "hidden": true
   },
   "source": [
    "Add population data. We need to work a little bit on the column names in order to merge this df seamlessly onto the master data frame."
   ]
  },
  {
   "cell_type": "code",
   "execution_count": 8,
   "metadata": {
    "hidden": true
   },
   "outputs": [],
   "source": [
    "df_county = pd.read_csv(\"/Users/jieunchoi/DataScience/food_environment_atlas/csv_files/meta/Supplemental Data - County-Table 1.csv\")\n",
    "df_county.dropna(axis=0, how=\"any\", inplace=True)\n",
    "\n",
    "df_county.rename(columns=lambda x: \"_\".join(x.upper().\\\n",
    "                      replace(\",\",\"\").replace(\"POPULATION\",\"POP\").replace(\"ESTIMATE\",\"EST\").strip().split()), inplace=True)\n",
    "\n",
    "col_tmp = df_county.columns.drop(['FIPS', 'STATE', 'COUNTY'])\n",
    "df_county[col_tmp] = df_county[col_tmp].apply(lambda x: pd.to_numeric(x.astype(str).str.replace(',','')))\n",
    "df_county[col_tmp] = df_county[col_tmp].apply(pd.to_numeric).astype('float64')\n",
    "\n",
    "df_county.COUNTY = df_county.COUNTY.apply(lambda x: x.strip())\n",
    "df_county.STATE = df_county.STATE.apply(lambda x: convert_state_names(x.strip(), abbr=False))"
   ]
  },
  {
   "cell_type": "code",
   "execution_count": 9,
   "metadata": {
    "hidden": true
   },
   "outputs": [],
   "source": [
    "master_df = master_df.merge(df_county, on=['FIPS', 'STATE', 'COUNTY'], how='left')"
   ]
  },
  {
   "cell_type": "code",
   "execution_count": 10,
   "metadata": {
    "hidden": true
   },
   "outputs": [
    {
     "name": "stdout",
     "output_type": "stream",
     "text": [
      "<class 'pandas.core.frame.DataFrame'>\n",
      "Int64Index: 3143 entries, 0 to 3142\n",
      "Columns: 287 entries, FIPS to POP_EST_2016\n",
      "dtypes: float64(255), int64(30), object(2)\n",
      "memory usage: 6.9+ MB\n"
     ]
    },
    {
     "data": {
      "text/html": [
       "<div>\n",
       "<style scoped>\n",
       "    .dataframe tbody tr th:only-of-type {\n",
       "        vertical-align: middle;\n",
       "    }\n",
       "\n",
       "    .dataframe tbody tr th {\n",
       "        vertical-align: top;\n",
       "    }\n",
       "\n",
       "    .dataframe thead th {\n",
       "        text-align: right;\n",
       "    }\n",
       "</style>\n",
       "<table border=\"1\" class=\"dataframe\">\n",
       "  <thead>\n",
       "    <tr style=\"text-align: right;\">\n",
       "      <th></th>\n",
       "      <th>FIPS</th>\n",
       "      <th>STATE</th>\n",
       "      <th>COUNTY</th>\n",
       "      <th>PCT_NHWHITE10</th>\n",
       "      <th>PCT_NHBLACK10</th>\n",
       "      <th>PCT_HISP10</th>\n",
       "      <th>PCT_NHASIAN10</th>\n",
       "      <th>PCT_NHNA10</th>\n",
       "      <th>PCT_NHPI10</th>\n",
       "      <th>PCT_65OLDER10</th>\n",
       "      <th>...</th>\n",
       "      <th>PCH_AGRITRSM_RCT_07_12</th>\n",
       "      <th>FARM_TO_SCHOOL09</th>\n",
       "      <th>FARM_TO_SCHOOL13</th>\n",
       "      <th>2010_CENSUS_POP</th>\n",
       "      <th>POP_EST_2011</th>\n",
       "      <th>POP_EST_2012</th>\n",
       "      <th>POP_EST_2013</th>\n",
       "      <th>POP_EST_2014</th>\n",
       "      <th>POP_EST_2015</th>\n",
       "      <th>POP_EST_2016</th>\n",
       "    </tr>\n",
       "  </thead>\n",
       "  <tbody>\n",
       "    <tr>\n",
       "      <th>0</th>\n",
       "      <td>1001</td>\n",
       "      <td>AL</td>\n",
       "      <td>Autauga</td>\n",
       "      <td>77.246156</td>\n",
       "      <td>17.582599</td>\n",
       "      <td>2.400542</td>\n",
       "      <td>0.855766</td>\n",
       "      <td>0.397647</td>\n",
       "      <td>0.040314</td>\n",
       "      <td>11.995382</td>\n",
       "      <td>...</td>\n",
       "      <td>-35.964912</td>\n",
       "      <td>0.0</td>\n",
       "      <td>NaN</td>\n",
       "      <td>54571.0</td>\n",
       "      <td>55255.0</td>\n",
       "      <td>55027.0</td>\n",
       "      <td>54792.0</td>\n",
       "      <td>54977.0</td>\n",
       "      <td>55035.0</td>\n",
       "      <td>55416.0</td>\n",
       "    </tr>\n",
       "    <tr>\n",
       "      <th>1</th>\n",
       "      <td>1003</td>\n",
       "      <td>AL</td>\n",
       "      <td>Baldwin</td>\n",
       "      <td>83.504787</td>\n",
       "      <td>9.308425</td>\n",
       "      <td>4.384824</td>\n",
       "      <td>0.735193</td>\n",
       "      <td>0.628755</td>\n",
       "      <td>0.043343</td>\n",
       "      <td>16.771185</td>\n",
       "      <td>...</td>\n",
       "      <td>64.516129</td>\n",
       "      <td>0.0</td>\n",
       "      <td>0.0</td>\n",
       "      <td>182265.0</td>\n",
       "      <td>186653.0</td>\n",
       "      <td>190403.0</td>\n",
       "      <td>195147.0</td>\n",
       "      <td>199745.0</td>\n",
       "      <td>203690.0</td>\n",
       "      <td>208563.0</td>\n",
       "    </tr>\n",
       "    <tr>\n",
       "      <th>2</th>\n",
       "      <td>1005</td>\n",
       "      <td>AL</td>\n",
       "      <td>Barbour</td>\n",
       "      <td>46.753105</td>\n",
       "      <td>46.691190</td>\n",
       "      <td>5.051535</td>\n",
       "      <td>0.389700</td>\n",
       "      <td>0.218524</td>\n",
       "      <td>0.087409</td>\n",
       "      <td>14.236807</td>\n",
       "      <td>...</td>\n",
       "      <td>86.503067</td>\n",
       "      <td>0.0</td>\n",
       "      <td>1.0</td>\n",
       "      <td>27457.0</td>\n",
       "      <td>27326.0</td>\n",
       "      <td>27132.0</td>\n",
       "      <td>26938.0</td>\n",
       "      <td>26763.0</td>\n",
       "      <td>26270.0</td>\n",
       "      <td>25965.0</td>\n",
       "    </tr>\n",
       "    <tr>\n",
       "      <th>3</th>\n",
       "      <td>1007</td>\n",
       "      <td>AL</td>\n",
       "      <td>Bibb</td>\n",
       "      <td>75.020729</td>\n",
       "      <td>21.924504</td>\n",
       "      <td>1.771765</td>\n",
       "      <td>0.096007</td>\n",
       "      <td>0.279293</td>\n",
       "      <td>0.030548</td>\n",
       "      <td>12.681650</td>\n",
       "      <td>...</td>\n",
       "      <td>NaN</td>\n",
       "      <td>0.0</td>\n",
       "      <td>0.0</td>\n",
       "      <td>22915.0</td>\n",
       "      <td>22736.0</td>\n",
       "      <td>22645.0</td>\n",
       "      <td>22501.0</td>\n",
       "      <td>22511.0</td>\n",
       "      <td>22561.0</td>\n",
       "      <td>22643.0</td>\n",
       "    </tr>\n",
       "    <tr>\n",
       "      <th>4</th>\n",
       "      <td>1009</td>\n",
       "      <td>AL</td>\n",
       "      <td>Blount</td>\n",
       "      <td>88.887338</td>\n",
       "      <td>1.263040</td>\n",
       "      <td>8.070200</td>\n",
       "      <td>0.200621</td>\n",
       "      <td>0.497191</td>\n",
       "      <td>0.031402</td>\n",
       "      <td>14.722096</td>\n",
       "      <td>...</td>\n",
       "      <td>-89.761092</td>\n",
       "      <td>0.0</td>\n",
       "      <td>1.0</td>\n",
       "      <td>57322.0</td>\n",
       "      <td>57707.0</td>\n",
       "      <td>57772.0</td>\n",
       "      <td>57746.0</td>\n",
       "      <td>57621.0</td>\n",
       "      <td>57676.0</td>\n",
       "      <td>57704.0</td>\n",
       "    </tr>\n",
       "  </tbody>\n",
       "</table>\n",
       "<p>5 rows × 287 columns</p>\n",
       "</div>"
      ],
      "text/plain": [
       "   FIPS STATE   COUNTY  PCT_NHWHITE10  PCT_NHBLACK10  PCT_HISP10  \\\n",
       "0  1001    AL  Autauga      77.246156      17.582599    2.400542   \n",
       "1  1003    AL  Baldwin      83.504787       9.308425    4.384824   \n",
       "2  1005    AL  Barbour      46.753105      46.691190    5.051535   \n",
       "3  1007    AL     Bibb      75.020729      21.924504    1.771765   \n",
       "4  1009    AL   Blount      88.887338       1.263040    8.070200   \n",
       "\n",
       "   PCT_NHASIAN10  PCT_NHNA10  PCT_NHPI10  PCT_65OLDER10      ...       \\\n",
       "0       0.855766    0.397647    0.040314      11.995382      ...        \n",
       "1       0.735193    0.628755    0.043343      16.771185      ...        \n",
       "2       0.389700    0.218524    0.087409      14.236807      ...        \n",
       "3       0.096007    0.279293    0.030548      12.681650      ...        \n",
       "4       0.200621    0.497191    0.031402      14.722096      ...        \n",
       "\n",
       "   PCH_AGRITRSM_RCT_07_12  FARM_TO_SCHOOL09  FARM_TO_SCHOOL13  \\\n",
       "0              -35.964912               0.0               NaN   \n",
       "1               64.516129               0.0               0.0   \n",
       "2               86.503067               0.0               1.0   \n",
       "3                     NaN               0.0               0.0   \n",
       "4              -89.761092               0.0               1.0   \n",
       "\n",
       "   2010_CENSUS_POP  POP_EST_2011  POP_EST_2012  POP_EST_2013  POP_EST_2014  \\\n",
       "0          54571.0       55255.0       55027.0       54792.0       54977.0   \n",
       "1         182265.0      186653.0      190403.0      195147.0      199745.0   \n",
       "2          27457.0       27326.0       27132.0       26938.0       26763.0   \n",
       "3          22915.0       22736.0       22645.0       22501.0       22511.0   \n",
       "4          57322.0       57707.0       57772.0       57746.0       57621.0   \n",
       "\n",
       "   POP_EST_2015  POP_EST_2016  \n",
       "0       55035.0       55416.0  \n",
       "1      203690.0      208563.0  \n",
       "2       26270.0       25965.0  \n",
       "3       22561.0       22643.0  \n",
       "4       57676.0       57704.0  \n",
       "\n",
       "[5 rows x 287 columns]"
      ]
     },
     "execution_count": 10,
     "metadata": {},
     "output_type": "execute_result"
    }
   ],
   "source": [
    "master_df.info()\n",
    "master_df.head()"
   ]
  },
  {
   "cell_type": "markdown",
   "metadata": {
    "hidden": true
   },
   "source": [
    "Let's add some relevant columns from the [2013 US Census data](https://www.census.gov/data/datasets/2013/demo/saipe/2013-state-and-county.html) since the main dataset only contains poverty rate and median income for 2015."
   ]
  },
  {
   "cell_type": "code",
   "execution_count": 11,
   "metadata": {
    "hidden": true
   },
   "outputs": [],
   "source": [
    "poverty_income_df_unf = pd.read_csv('/Users/jieunchoi/DataScience/food_environment_atlas/csv_files/census/est13all.csv')"
   ]
  },
  {
   "cell_type": "markdown",
   "metadata": {
    "hidden": true
   },
   "source": [
    "Drop empty header rows and reset the index. Select only the columns we want to append to the master data frame."
   ]
  },
  {
   "cell_type": "code",
   "execution_count": 12,
   "metadata": {
    "hidden": true
   },
   "outputs": [],
   "source": [
    "poverty_income_df = poverty_income_df_unf.drop(labels=[0,1,2,3], axis=0).copy()\n",
    "poverty_income_df.columns = poverty_income_df_unf.iloc[2]\n",
    "poverty_income_df = poverty_income_df.reset_index(drop=True)"
   ]
  },
  {
   "cell_type": "code",
   "execution_count": 13,
   "metadata": {
    "hidden": true
   },
   "outputs": [],
   "source": [
    "poverty_income_df = poverty_income_df[['State FIPS Code', 'County FIPS Code', \\\n",
    "                                       'Postal Code', 'Poverty Percent, All Ages', \\\n",
    "                                       'Median Household Income', 'Poverty Percent, Age 0-17']]\n",
    "\n",
    "poverty_income_df['Median Household Income'] = poverty_income_df['Median Household Income'].apply(lambda x: x.replace(\",\",\"\"))"
   ]
  },
  {
   "cell_type": "markdown",
   "metadata": {
    "hidden": true
   },
   "source": [
    "Rename columns, convert to the appropriate data types, and drop rows containing state data."
   ]
  },
  {
   "cell_type": "code",
   "execution_count": 14,
   "metadata": {
    "hidden": true
   },
   "outputs": [],
   "source": [
    "poverty_income_cols = poverty_income_df.columns.drop(labels=['State FIPS Code', 'County FIPS Code', 'Postal Code'])\n",
    "poverty_income_df[poverty_income_cols] = poverty_income_df[poverty_income_cols].apply(pd.to_numeric, errors='coerce')\n",
    "\n",
    "poverty_income_df = poverty_income_df.drop(poverty_income_df[poverty_income_df['County FIPS Code'] == '000'].index)\n",
    "poverty_income_df.columns = ['STATE_FIPS', 'COUNTY_FIPS', \\\n",
    "                                       'STATE', 'POVRATE13_ALL', \\\n",
    "                                       'MEDHHINC13', 'POVRATE13_CHILD']\n",
    "\n",
    "poverty_income_df['FIPS'] = poverty_income_df.apply(lambda row: int(row.STATE_FIPS)*1000+int(row.COUNTY_FIPS), axis=1)\n",
    "poverty_income_df = poverty_income_df.drop(columns=['STATE_FIPS', 'COUNTY_FIPS'])"
   ]
  },
  {
   "cell_type": "markdown",
   "metadata": {
    "hidden": true
   },
   "source": [
    "Merge with the main data frame."
   ]
  },
  {
   "cell_type": "code",
   "execution_count": 15,
   "metadata": {
    "hidden": true
   },
   "outputs": [
    {
     "name": "stdout",
     "output_type": "stream",
     "text": [
      "<class 'pandas.core.frame.DataFrame'>\n",
      "Int64Index: 3143 entries, 0 to 3142\n",
      "Columns: 290 entries, FIPS to POVRATE13_CHILD\n",
      "dtypes: float64(258), int64(30), object(2)\n",
      "memory usage: 7.0+ MB\n"
     ]
    },
    {
     "data": {
      "text/html": [
       "<div>\n",
       "<style scoped>\n",
       "    .dataframe tbody tr th:only-of-type {\n",
       "        vertical-align: middle;\n",
       "    }\n",
       "\n",
       "    .dataframe tbody tr th {\n",
       "        vertical-align: top;\n",
       "    }\n",
       "\n",
       "    .dataframe thead th {\n",
       "        text-align: right;\n",
       "    }\n",
       "</style>\n",
       "<table border=\"1\" class=\"dataframe\">\n",
       "  <thead>\n",
       "    <tr style=\"text-align: right;\">\n",
       "      <th></th>\n",
       "      <th>FIPS</th>\n",
       "      <th>STATE</th>\n",
       "      <th>COUNTY</th>\n",
       "      <th>PCT_NHWHITE10</th>\n",
       "      <th>PCT_NHBLACK10</th>\n",
       "      <th>PCT_HISP10</th>\n",
       "      <th>PCT_NHASIAN10</th>\n",
       "      <th>PCT_NHNA10</th>\n",
       "      <th>PCT_NHPI10</th>\n",
       "      <th>PCT_65OLDER10</th>\n",
       "      <th>...</th>\n",
       "      <th>2010_CENSUS_POP</th>\n",
       "      <th>POP_EST_2011</th>\n",
       "      <th>POP_EST_2012</th>\n",
       "      <th>POP_EST_2013</th>\n",
       "      <th>POP_EST_2014</th>\n",
       "      <th>POP_EST_2015</th>\n",
       "      <th>POP_EST_2016</th>\n",
       "      <th>POVRATE13_ALL</th>\n",
       "      <th>MEDHHINC13</th>\n",
       "      <th>POVRATE13_CHILD</th>\n",
       "    </tr>\n",
       "  </thead>\n",
       "  <tbody>\n",
       "    <tr>\n",
       "      <th>0</th>\n",
       "      <td>1001</td>\n",
       "      <td>AL</td>\n",
       "      <td>Autauga</td>\n",
       "      <td>77.246156</td>\n",
       "      <td>17.582599</td>\n",
       "      <td>2.400542</td>\n",
       "      <td>0.855766</td>\n",
       "      <td>0.397647</td>\n",
       "      <td>0.040314</td>\n",
       "      <td>11.995382</td>\n",
       "      <td>...</td>\n",
       "      <td>54571.0</td>\n",
       "      <td>55255.0</td>\n",
       "      <td>55027.0</td>\n",
       "      <td>54792.0</td>\n",
       "      <td>54977.0</td>\n",
       "      <td>55035.0</td>\n",
       "      <td>55416.0</td>\n",
       "      <td>13.5</td>\n",
       "      <td>51868.0</td>\n",
       "      <td>19.6</td>\n",
       "    </tr>\n",
       "    <tr>\n",
       "      <th>1</th>\n",
       "      <td>1003</td>\n",
       "      <td>AL</td>\n",
       "      <td>Baldwin</td>\n",
       "      <td>83.504787</td>\n",
       "      <td>9.308425</td>\n",
       "      <td>4.384824</td>\n",
       "      <td>0.735193</td>\n",
       "      <td>0.628755</td>\n",
       "      <td>0.043343</td>\n",
       "      <td>16.771185</td>\n",
       "      <td>...</td>\n",
       "      <td>182265.0</td>\n",
       "      <td>186653.0</td>\n",
       "      <td>190403.0</td>\n",
       "      <td>195147.0</td>\n",
       "      <td>199745.0</td>\n",
       "      <td>203690.0</td>\n",
       "      <td>208563.0</td>\n",
       "      <td>14.2</td>\n",
       "      <td>47539.0</td>\n",
       "      <td>20.8</td>\n",
       "    </tr>\n",
       "    <tr>\n",
       "      <th>2</th>\n",
       "      <td>1005</td>\n",
       "      <td>AL</td>\n",
       "      <td>Barbour</td>\n",
       "      <td>46.753105</td>\n",
       "      <td>46.691190</td>\n",
       "      <td>5.051535</td>\n",
       "      <td>0.389700</td>\n",
       "      <td>0.218524</td>\n",
       "      <td>0.087409</td>\n",
       "      <td>14.236807</td>\n",
       "      <td>...</td>\n",
       "      <td>27457.0</td>\n",
       "      <td>27326.0</td>\n",
       "      <td>27132.0</td>\n",
       "      <td>26938.0</td>\n",
       "      <td>26763.0</td>\n",
       "      <td>26270.0</td>\n",
       "      <td>25965.0</td>\n",
       "      <td>28.2</td>\n",
       "      <td>30981.0</td>\n",
       "      <td>42.4</td>\n",
       "    </tr>\n",
       "    <tr>\n",
       "      <th>3</th>\n",
       "      <td>1007</td>\n",
       "      <td>AL</td>\n",
       "      <td>Bibb</td>\n",
       "      <td>75.020729</td>\n",
       "      <td>21.924504</td>\n",
       "      <td>1.771765</td>\n",
       "      <td>0.096007</td>\n",
       "      <td>0.279293</td>\n",
       "      <td>0.030548</td>\n",
       "      <td>12.681650</td>\n",
       "      <td>...</td>\n",
       "      <td>22915.0</td>\n",
       "      <td>22736.0</td>\n",
       "      <td>22645.0</td>\n",
       "      <td>22501.0</td>\n",
       "      <td>22511.0</td>\n",
       "      <td>22561.0</td>\n",
       "      <td>22643.0</td>\n",
       "      <td>23.1</td>\n",
       "      <td>39781.0</td>\n",
       "      <td>35.6</td>\n",
       "    </tr>\n",
       "    <tr>\n",
       "      <th>4</th>\n",
       "      <td>1009</td>\n",
       "      <td>AL</td>\n",
       "      <td>Blount</td>\n",
       "      <td>88.887338</td>\n",
       "      <td>1.263040</td>\n",
       "      <td>8.070200</td>\n",
       "      <td>0.200621</td>\n",
       "      <td>0.497191</td>\n",
       "      <td>0.031402</td>\n",
       "      <td>14.722096</td>\n",
       "      <td>...</td>\n",
       "      <td>57322.0</td>\n",
       "      <td>57707.0</td>\n",
       "      <td>57772.0</td>\n",
       "      <td>57746.0</td>\n",
       "      <td>57621.0</td>\n",
       "      <td>57676.0</td>\n",
       "      <td>57704.0</td>\n",
       "      <td>17.2</td>\n",
       "      <td>44392.0</td>\n",
       "      <td>26.6</td>\n",
       "    </tr>\n",
       "  </tbody>\n",
       "</table>\n",
       "<p>5 rows × 290 columns</p>\n",
       "</div>"
      ],
      "text/plain": [
       "   FIPS STATE   COUNTY  PCT_NHWHITE10  PCT_NHBLACK10  PCT_HISP10  \\\n",
       "0  1001    AL  Autauga      77.246156      17.582599    2.400542   \n",
       "1  1003    AL  Baldwin      83.504787       9.308425    4.384824   \n",
       "2  1005    AL  Barbour      46.753105      46.691190    5.051535   \n",
       "3  1007    AL     Bibb      75.020729      21.924504    1.771765   \n",
       "4  1009    AL   Blount      88.887338       1.263040    8.070200   \n",
       "\n",
       "   PCT_NHASIAN10  PCT_NHNA10  PCT_NHPI10  PCT_65OLDER10       ...         \\\n",
       "0       0.855766    0.397647    0.040314      11.995382       ...          \n",
       "1       0.735193    0.628755    0.043343      16.771185       ...          \n",
       "2       0.389700    0.218524    0.087409      14.236807       ...          \n",
       "3       0.096007    0.279293    0.030548      12.681650       ...          \n",
       "4       0.200621    0.497191    0.031402      14.722096       ...          \n",
       "\n",
       "   2010_CENSUS_POP  POP_EST_2011  POP_EST_2012  POP_EST_2013  POP_EST_2014  \\\n",
       "0          54571.0       55255.0       55027.0       54792.0       54977.0   \n",
       "1         182265.0      186653.0      190403.0      195147.0      199745.0   \n",
       "2          27457.0       27326.0       27132.0       26938.0       26763.0   \n",
       "3          22915.0       22736.0       22645.0       22501.0       22511.0   \n",
       "4          57322.0       57707.0       57772.0       57746.0       57621.0   \n",
       "\n",
       "   POP_EST_2015  POP_EST_2016  POVRATE13_ALL  MEDHHINC13  POVRATE13_CHILD  \n",
       "0       55035.0       55416.0           13.5     51868.0             19.6  \n",
       "1      203690.0      208563.0           14.2     47539.0             20.8  \n",
       "2       26270.0       25965.0           28.2     30981.0             42.4  \n",
       "3       22561.0       22643.0           23.1     39781.0             35.6  \n",
       "4       57676.0       57704.0           17.2     44392.0             26.6  \n",
       "\n",
       "[5 rows x 290 columns]"
      ]
     },
     "execution_count": 15,
     "metadata": {},
     "output_type": "execute_result"
    }
   ],
   "source": [
    "master_df = master_df.merge(poverty_income_df, on=['FIPS', 'STATE'], how='left')\n",
    "master_df.info()\n",
    "master_df.head()"
   ]
  },
  {
   "cell_type": "markdown",
   "metadata": {
    "hidden": true
   },
   "source": [
    "## Format and check the data."
   ]
  },
  {
   "cell_type": "markdown",
   "metadata": {
    "hidden": true
   },
   "source": [
    "Inspect the variable list to figure out which data columns should be dropped. We want to discard data columns that are redundant (e.g., % change given values from two years' worth of data, which are already included as part of the data set) or non-normalized (e.g., counts). Let's also discard data from 2014 and beyond as we'll make predictions for 2013."
   ]
  },
  {
   "cell_type": "code",
   "execution_count": 16,
   "metadata": {
    "hidden": true
   },
   "outputs": [
    {
     "name": "stdout",
     "output_type": "stream",
     "text": [
      "['# per 1,000 pop' '% change' '1,000 dollars' 'Acres' 'Acres/1,000 pop'\n",
      " 'Classification' 'Count' 'Dollars' 'Dollars/capita' 'Dollars/store'\n",
      " 'Legend' 'Percent' 'Percentage points' 'Ratio' 'Sq ft' 'Sq ft/1,000 pop']\n"
     ]
    }
   ],
   "source": [
    "variable_df = pd.read_csv('/Users/jieunchoi/DataScience/food_environment_atlas/csv_files/meta/Variable List-Table 1.csv')\n",
    "print(np.unique(variable_df.Units))"
   ]
  },
  {
   "cell_type": "code",
   "execution_count": 17,
   "metadata": {
    "hidden": true
   },
   "outputs": [
    {
     "name": "stdout",
     "output_type": "stream",
     "text": [
      "(277, 7)\n",
      "(156, 7)\n",
      "(90, 7)\n"
     ]
    }
   ],
   "source": [
    "print(np.shape(variable_df))\n",
    "data16 = [x for x in variable_df['Variable Code'] if int(x[-2:]) > 13]\n",
    "variable_df = variable_df[(~variable_df['Variable Code'].isin(data16))]\n",
    "print(np.shape(variable_df))\n",
    "badunits = ['Count', '% change', 'Sq ft', 'Percentage points', '1,000 dollars']\n",
    "variable_df = variable_df[(~variable_df['Units'].isin(badunits))]\n",
    "print(np.shape(variable_df))"
   ]
  },
  {
   "cell_type": "markdown",
   "metadata": {
    "hidden": true
   },
   "source": [
    "Use the selected column names to filter the master data frame."
   ]
  },
  {
   "cell_type": "code",
   "execution_count": 18,
   "metadata": {
    "hidden": true,
    "scrolled": false
   },
   "outputs": [
    {
     "data": {
      "text/html": [
       "<div>\n",
       "<style scoped>\n",
       "    .dataframe tbody tr th:only-of-type {\n",
       "        vertical-align: middle;\n",
       "    }\n",
       "\n",
       "    .dataframe tbody tr th {\n",
       "        vertical-align: top;\n",
       "    }\n",
       "\n",
       "    .dataframe thead th {\n",
       "        text-align: right;\n",
       "    }\n",
       "</style>\n",
       "<table border=\"1\" class=\"dataframe\">\n",
       "  <thead>\n",
       "    <tr style=\"text-align: right;\">\n",
       "      <th></th>\n",
       "      <th>FIPS</th>\n",
       "      <th>STATE</th>\n",
       "      <th>COUNTY</th>\n",
       "      <th>POVRATE13_ALL</th>\n",
       "      <th>MEDHHINC13</th>\n",
       "      <th>POVRATE13_CHILD</th>\n",
       "      <th>2010_CENSUS_POP</th>\n",
       "      <th>POP_EST_2011</th>\n",
       "      <th>POP_EST_2012</th>\n",
       "      <th>POP_EST_2013</th>\n",
       "      <th>...</th>\n",
       "      <th>PCT_HISP10</th>\n",
       "      <th>PCT_NHASIAN10</th>\n",
       "      <th>PCT_NHNA10</th>\n",
       "      <th>PCT_NHPI10</th>\n",
       "      <th>PCT_65OLDER10</th>\n",
       "      <th>PCT_18YOUNGER10</th>\n",
       "      <th>PERPOV10</th>\n",
       "      <th>PERCHLDPOV10</th>\n",
       "      <th>METRO13</th>\n",
       "      <th>POPLOSS10</th>\n",
       "    </tr>\n",
       "  </thead>\n",
       "  <tbody>\n",
       "    <tr>\n",
       "      <th>0</th>\n",
       "      <td>1001</td>\n",
       "      <td>AL</td>\n",
       "      <td>Autauga</td>\n",
       "      <td>13.5</td>\n",
       "      <td>51868.0</td>\n",
       "      <td>19.6</td>\n",
       "      <td>54571.0</td>\n",
       "      <td>55255.0</td>\n",
       "      <td>55027.0</td>\n",
       "      <td>54792.0</td>\n",
       "      <td>...</td>\n",
       "      <td>2.400542</td>\n",
       "      <td>0.855766</td>\n",
       "      <td>0.397647</td>\n",
       "      <td>0.040314</td>\n",
       "      <td>11.995382</td>\n",
       "      <td>26.777959</td>\n",
       "      <td>0</td>\n",
       "      <td>0</td>\n",
       "      <td>1</td>\n",
       "      <td>0.0</td>\n",
       "    </tr>\n",
       "    <tr>\n",
       "      <th>1</th>\n",
       "      <td>1003</td>\n",
       "      <td>AL</td>\n",
       "      <td>Baldwin</td>\n",
       "      <td>14.2</td>\n",
       "      <td>47539.0</td>\n",
       "      <td>20.8</td>\n",
       "      <td>182265.0</td>\n",
       "      <td>186653.0</td>\n",
       "      <td>190403.0</td>\n",
       "      <td>195147.0</td>\n",
       "      <td>...</td>\n",
       "      <td>4.384824</td>\n",
       "      <td>0.735193</td>\n",
       "      <td>0.628755</td>\n",
       "      <td>0.043343</td>\n",
       "      <td>16.771185</td>\n",
       "      <td>22.987408</td>\n",
       "      <td>0</td>\n",
       "      <td>0</td>\n",
       "      <td>1</td>\n",
       "      <td>0.0</td>\n",
       "    </tr>\n",
       "    <tr>\n",
       "      <th>2</th>\n",
       "      <td>1005</td>\n",
       "      <td>AL</td>\n",
       "      <td>Barbour</td>\n",
       "      <td>28.2</td>\n",
       "      <td>30981.0</td>\n",
       "      <td>42.4</td>\n",
       "      <td>27457.0</td>\n",
       "      <td>27326.0</td>\n",
       "      <td>27132.0</td>\n",
       "      <td>26938.0</td>\n",
       "      <td>...</td>\n",
       "      <td>5.051535</td>\n",
       "      <td>0.389700</td>\n",
       "      <td>0.218524</td>\n",
       "      <td>0.087409</td>\n",
       "      <td>14.236807</td>\n",
       "      <td>21.906982</td>\n",
       "      <td>1</td>\n",
       "      <td>1</td>\n",
       "      <td>0</td>\n",
       "      <td>0.0</td>\n",
       "    </tr>\n",
       "    <tr>\n",
       "      <th>3</th>\n",
       "      <td>1007</td>\n",
       "      <td>AL</td>\n",
       "      <td>Bibb</td>\n",
       "      <td>23.1</td>\n",
       "      <td>39781.0</td>\n",
       "      <td>35.6</td>\n",
       "      <td>22915.0</td>\n",
       "      <td>22736.0</td>\n",
       "      <td>22645.0</td>\n",
       "      <td>22501.0</td>\n",
       "      <td>...</td>\n",
       "      <td>1.771765</td>\n",
       "      <td>0.096007</td>\n",
       "      <td>0.279293</td>\n",
       "      <td>0.030548</td>\n",
       "      <td>12.681650</td>\n",
       "      <td>22.696923</td>\n",
       "      <td>0</td>\n",
       "      <td>1</td>\n",
       "      <td>1</td>\n",
       "      <td>0.0</td>\n",
       "    </tr>\n",
       "    <tr>\n",
       "      <th>4</th>\n",
       "      <td>1009</td>\n",
       "      <td>AL</td>\n",
       "      <td>Blount</td>\n",
       "      <td>17.2</td>\n",
       "      <td>44392.0</td>\n",
       "      <td>26.6</td>\n",
       "      <td>57322.0</td>\n",
       "      <td>57707.0</td>\n",
       "      <td>57772.0</td>\n",
       "      <td>57746.0</td>\n",
       "      <td>...</td>\n",
       "      <td>8.070200</td>\n",
       "      <td>0.200621</td>\n",
       "      <td>0.497191</td>\n",
       "      <td>0.031402</td>\n",
       "      <td>14.722096</td>\n",
       "      <td>24.608353</td>\n",
       "      <td>0</td>\n",
       "      <td>0</td>\n",
       "      <td>1</td>\n",
       "      <td>0.0</td>\n",
       "    </tr>\n",
       "  </tbody>\n",
       "</table>\n",
       "<p>5 rows × 100 columns</p>\n",
       "</div>"
      ],
      "text/plain": [
       "   FIPS STATE   COUNTY  POVRATE13_ALL  MEDHHINC13  POVRATE13_CHILD  \\\n",
       "0  1001    AL  Autauga           13.5     51868.0             19.6   \n",
       "1  1003    AL  Baldwin           14.2     47539.0             20.8   \n",
       "2  1005    AL  Barbour           28.2     30981.0             42.4   \n",
       "3  1007    AL     Bibb           23.1     39781.0             35.6   \n",
       "4  1009    AL   Blount           17.2     44392.0             26.6   \n",
       "\n",
       "   2010_CENSUS_POP  POP_EST_2011  POP_EST_2012  POP_EST_2013    ...      \\\n",
       "0          54571.0       55255.0       55027.0       54792.0    ...       \n",
       "1         182265.0      186653.0      190403.0      195147.0    ...       \n",
       "2          27457.0       27326.0       27132.0       26938.0    ...       \n",
       "3          22915.0       22736.0       22645.0       22501.0    ...       \n",
       "4          57322.0       57707.0       57772.0       57746.0    ...       \n",
       "\n",
       "   PCT_HISP10  PCT_NHASIAN10  PCT_NHNA10  PCT_NHPI10  PCT_65OLDER10  \\\n",
       "0    2.400542       0.855766    0.397647    0.040314      11.995382   \n",
       "1    4.384824       0.735193    0.628755    0.043343      16.771185   \n",
       "2    5.051535       0.389700    0.218524    0.087409      14.236807   \n",
       "3    1.771765       0.096007    0.279293    0.030548      12.681650   \n",
       "4    8.070200       0.200621    0.497191    0.031402      14.722096   \n",
       "\n",
       "   PCT_18YOUNGER10  PERPOV10  PERCHLDPOV10  METRO13  POPLOSS10  \n",
       "0        26.777959         0             0        1        0.0  \n",
       "1        22.987408         0             0        1        0.0  \n",
       "2        21.906982         1             1        0        0.0  \n",
       "3        22.696923         0             1        1        0.0  \n",
       "4        24.608353         0             0        1        0.0  \n",
       "\n",
       "[5 rows x 100 columns]"
      ]
     },
     "execution_count": 18,
     "metadata": {},
     "output_type": "execute_result"
    }
   ],
   "source": [
    "master_df = pd.merge(master_df[['FIPS', 'STATE', 'COUNTY', 'POVRATE13_ALL', 'MEDHHINC13', 'POVRATE13_CHILD', \\\n",
    "                                '2010_CENSUS_POP', 'POP_EST_2011', 'POP_EST_2012', 'POP_EST_2013']].copy(), \\\n",
    "                     master_df[variable_df['Variable Code']].copy(), left_index=True, right_index=True)\n",
    "master_df.head()"
   ]
  },
  {
   "cell_type": "markdown",
   "metadata": {
    "hidden": true
   },
   "source": [
    "Spot check the number of counties attributed to each state. GA had 159 counties compared to CA's 58! Remarkable."
   ]
  },
  {
   "cell_type": "code",
   "execution_count": 19,
   "metadata": {
    "hidden": true
   },
   "outputs": [
    {
     "data": {
      "text/html": [
       "<div>\n",
       "<style scoped>\n",
       "    .dataframe tbody tr th:only-of-type {\n",
       "        vertical-align: middle;\n",
       "    }\n",
       "\n",
       "    .dataframe tbody tr th {\n",
       "        vertical-align: top;\n",
       "    }\n",
       "\n",
       "    .dataframe thead th {\n",
       "        text-align: right;\n",
       "    }\n",
       "</style>\n",
       "<table border=\"1\" class=\"dataframe\">\n",
       "  <thead>\n",
       "    <tr style=\"text-align: right;\">\n",
       "      <th></th>\n",
       "      <th>COUNTY</th>\n",
       "    </tr>\n",
       "    <tr>\n",
       "      <th>STATE</th>\n",
       "      <th></th>\n",
       "    </tr>\n",
       "  </thead>\n",
       "  <tbody>\n",
       "    <tr>\n",
       "      <th>AK</th>\n",
       "      <td>29</td>\n",
       "    </tr>\n",
       "    <tr>\n",
       "      <th>AL</th>\n",
       "      <td>67</td>\n",
       "    </tr>\n",
       "    <tr>\n",
       "      <th>AR</th>\n",
       "      <td>75</td>\n",
       "    </tr>\n",
       "    <tr>\n",
       "      <th>AZ</th>\n",
       "      <td>15</td>\n",
       "    </tr>\n",
       "    <tr>\n",
       "      <th>CA</th>\n",
       "      <td>58</td>\n",
       "    </tr>\n",
       "    <tr>\n",
       "      <th>CO</th>\n",
       "      <td>64</td>\n",
       "    </tr>\n",
       "    <tr>\n",
       "      <th>CT</th>\n",
       "      <td>8</td>\n",
       "    </tr>\n",
       "    <tr>\n",
       "      <th>DC</th>\n",
       "      <td>1</td>\n",
       "    </tr>\n",
       "    <tr>\n",
       "      <th>DE</th>\n",
       "      <td>3</td>\n",
       "    </tr>\n",
       "    <tr>\n",
       "      <th>FL</th>\n",
       "      <td>67</td>\n",
       "    </tr>\n",
       "    <tr>\n",
       "      <th>GA</th>\n",
       "      <td>159</td>\n",
       "    </tr>\n",
       "    <tr>\n",
       "      <th>HI</th>\n",
       "      <td>5</td>\n",
       "    </tr>\n",
       "    <tr>\n",
       "      <th>IA</th>\n",
       "      <td>99</td>\n",
       "    </tr>\n",
       "    <tr>\n",
       "      <th>ID</th>\n",
       "      <td>44</td>\n",
       "    </tr>\n",
       "    <tr>\n",
       "      <th>IL</th>\n",
       "      <td>102</td>\n",
       "    </tr>\n",
       "  </tbody>\n",
       "</table>\n",
       "</div>"
      ],
      "text/plain": [
       "       COUNTY\n",
       "STATE        \n",
       "AK         29\n",
       "AL         67\n",
       "AR         75\n",
       "AZ         15\n",
       "CA         58\n",
       "CO         64\n",
       "CT          8\n",
       "DC          1\n",
       "DE          3\n",
       "FL         67\n",
       "GA        159\n",
       "HI          5\n",
       "IA         99\n",
       "ID         44\n",
       "IL        102"
      ]
     },
     "metadata": {},
     "output_type": "display_data"
    }
   ],
   "source": [
    "master_df = master_df.drop_duplicates(['FIPS'])\n",
    "state_county_df = master_df[['STATE', 'COUNTY']].groupby(by='STATE').count()\n",
    "display(state_county_df.head(n=15))"
   ]
  },
  {
   "cell_type": "markdown",
   "metadata": {
    "hidden": true
   },
   "source": [
    "Perform additional basic checks for problematic data, such as missing data. Most of the columns that are missing >100 rows don't seem too crucial, for example AGRITRSM_RCT07, the total farm revenue from agritourism in 2007 or BERRY_ACRES07, the acres of land used in berry production in 2007.\n",
    "\n",
    "For simplicity, let's drop the columns with >300 rows of missing data. This will remove mainly agriculture/farm-related columns."
   ]
  },
  {
   "cell_type": "code",
   "execution_count": 20,
   "metadata": {
    "hidden": true,
    "scrolled": false
   },
   "outputs": [
    {
     "name": "stdout",
     "output_type": "stream",
     "text": [
      "There are 3143 rows total. The following columns are missing >100 rows.\n",
      "FRESHVEG_ACRESPTH07    1300\n",
      "FRESHVEG_ACRES07       1300\n",
      "FRESHVEG_ACRESPTH12    1227\n",
      "FRESHVEG_ACRES12       1226\n",
      "AGRITRSM_RCT07         1169\n",
      "PC_WIC_REDEMP12        1139\n",
      "REDEMP_WICS12          1139\n",
      "PC_WIC_REDEMP08        1064\n",
      "REDEMP_WICS08          1064\n",
      "AGRITRSM_RCT12         1024\n",
      "GHVEG_SQFTPTH12         896\n",
      "GHVEG_SQFTPTH07         843\n",
      "BERRY_ACRES07           838\n",
      "BERRY_ACRESPTH07        838\n",
      "BERRY_ACRESPTH12        810\n",
      "BERRY_ACRES12           809\n",
      "VEG_ACRESPTH12          612\n",
      "VEG_ACRESPTH07          611\n",
      "VEG_ACRES07             611\n",
      "ORCHARD_ACRESPTH12      597\n",
      "ORCHARD_ACRES12         596\n",
      "VEG_ACRES12             562\n",
      "ORCHARD_ACRES07         548\n",
      "ORCHARD_ACRESPTH07      548\n",
      "PCT_LOCLSALE07          346\n",
      "PC_DIRSALES07           288\n",
      "PCT_LOCLSALE12          287\n",
      "PC_DIRSALES12           243\n",
      "REDEMP_SNAPS12          242\n",
      "FARM_TO_SCHOOL13        208\n",
      "dtype: int64\n",
      "Dropping 25 columns with >300 missing rows.\n"
     ]
    }
   ],
   "source": [
    "count_null_values = master_df.isnull().sum().sort_values(ascending=False)\n",
    "print('There are',np.shape(master_df)[0],'rows total. The following columns are missing >100 rows.')\n",
    "missing_gt100 = count_null_values[count_null_values > 100].copy()\n",
    "print(missing_gt100)\n",
    "\n",
    "missing_gt300 = count_null_values[(count_null_values > 300)].copy()\n",
    "print('Dropping', len(missing_gt300),'columns with >300 missing rows.')\n",
    "master_df = master_df.drop(labels=missing_gt300.index, axis=1)"
   ]
  },
  {
   "cell_type": "markdown",
   "metadata": {
    "hidden": true
   },
   "source": [
    "Let's deal with the missing data via imputing. We will fill in missing rows using the median value for each state. For columns that are missing data for entire states, we will enter the national median value."
   ]
  },
  {
   "cell_type": "code",
   "execution_count": 21,
   "metadata": {
    "hidden": true
   },
   "outputs": [
    {
     "name": "stdout",
     "output_type": "stream",
     "text": [
      "['POVRATE13_ALL' 'MEDHHINC13' 'POVRATE13_CHILD' '2010_CENSUS_POP'\n",
      " 'POP_EST_2011' 'POP_EST_2012' 'POP_EST_2013' 'REDEMP_SNAPS12'\n",
      " 'PC_SNAPBEN10' 'PCT_FREE_LUNCH09' 'PCT_REDUCED_LUNCH09' 'MILK_PRICE10'\n",
      " 'SODA_PRICE10' 'MILK_SODA_PRICE10' 'PCT_LOCLFARM07' 'PCT_LOCLFARM12'\n",
      " 'PCT_LOCLSALE12' 'PC_DIRSALES07' 'PC_DIRSALES12' 'FMRKTPTH09'\n",
      " 'FARM_TO_SCHOOL09' 'FARM_TO_SCHOOL13' 'PCT_DIABETES_ADULTS08'\n",
      " 'PCT_DIABETES_ADULTS13' 'PCT_OBESE_ADULTS08' 'PCT_OBESE_ADULTS13'\n",
      " 'POPLOSS10']\n"
     ]
    },
    {
     "name": "stderr",
     "output_type": "stream",
     "text": [
      "/Users/jieunchoi/anaconda/envs/python36/lib/python3.6/site-packages/numpy/lib/nanfunctions.py:1019: RuntimeWarning: Mean of empty slice\n",
      "  return np.nanmean(a, axis, out=out, keepdims=keepdims)\n"
     ]
    }
   ],
   "source": [
    "cols_w_null_values = master_df.columns[master_df.isnull().any()]\n",
    "print(cols_w_null_values.values)\n",
    "for c in cols_w_null_values:\n",
    "    master_df[c] = master_df.groupby('STATE')[c].apply(lambda x: x.fillna(x.median()))"
   ]
  },
  {
   "cell_type": "code",
   "execution_count": 22,
   "metadata": {
    "hidden": true
   },
   "outputs": [
    {
     "name": "stdout",
     "output_type": "stream",
     "text": [
      "['MILK_PRICE10' 'SODA_PRICE10' 'MILK_SODA_PRICE10' 'PCT_LOCLFARM07'\n",
      " 'PCT_LOCLFARM12' 'PCT_LOCLSALE12' 'PC_DIRSALES07' 'PC_DIRSALES12']\n"
     ]
    }
   ],
   "source": [
    "cols_w_null_values = master_df.columns[master_df.isnull().any()]\n",
    "print(cols_w_null_values.values)\n",
    "for c in cols_w_null_values:\n",
    "    master_df[c] = master_df[c].transform(lambda x: x.fillna(x.median()))"
   ]
  },
  {
   "cell_type": "code",
   "execution_count": 23,
   "metadata": {
    "hidden": true
   },
   "outputs": [
    {
     "name": "stdout",
     "output_type": "stream",
     "text": [
      "Any remaining missing values?:  False\n",
      "There are a total of 3143 counties (rows) and 75 features (columns).\n"
     ]
    }
   ],
   "source": [
    "print('Any remaining missing values?: ', master_df.isnull().values.any())\n",
    "print('There are a total of', np.shape(master_df)[0], 'counties (rows) and', np.shape(master_df)[1], 'features (columns).')"
   ]
  },
  {
   "cell_type": "code",
   "execution_count": 24,
   "metadata": {
    "hidden": true
   },
   "outputs": [
    {
     "data": {
      "text/html": [
       "<div>\n",
       "<style scoped>\n",
       "    .dataframe tbody tr th:only-of-type {\n",
       "        vertical-align: middle;\n",
       "    }\n",
       "\n",
       "    .dataframe tbody tr th {\n",
       "        vertical-align: top;\n",
       "    }\n",
       "\n",
       "    .dataframe thead th {\n",
       "        text-align: right;\n",
       "    }\n",
       "</style>\n",
       "<table border=\"1\" class=\"dataframe\">\n",
       "  <thead>\n",
       "    <tr style=\"text-align: right;\">\n",
       "      <th></th>\n",
       "      <th>FIPS</th>\n",
       "      <th>STATE</th>\n",
       "      <th>COUNTY</th>\n",
       "      <th>POVRATE13_ALL</th>\n",
       "      <th>MEDHHINC13</th>\n",
       "      <th>POVRATE13_CHILD</th>\n",
       "      <th>2010_CENSUS_POP</th>\n",
       "      <th>POP_EST_2011</th>\n",
       "      <th>POP_EST_2012</th>\n",
       "      <th>POP_EST_2013</th>\n",
       "      <th>...</th>\n",
       "      <th>PCT_HISP10</th>\n",
       "      <th>PCT_NHASIAN10</th>\n",
       "      <th>PCT_NHNA10</th>\n",
       "      <th>PCT_NHPI10</th>\n",
       "      <th>PCT_65OLDER10</th>\n",
       "      <th>PCT_18YOUNGER10</th>\n",
       "      <th>PERPOV10</th>\n",
       "      <th>PERCHLDPOV10</th>\n",
       "      <th>METRO13</th>\n",
       "      <th>POPLOSS10</th>\n",
       "    </tr>\n",
       "  </thead>\n",
       "  <tbody>\n",
       "    <tr>\n",
       "      <th>0</th>\n",
       "      <td>1001</td>\n",
       "      <td>AL</td>\n",
       "      <td>Autauga</td>\n",
       "      <td>13.5</td>\n",
       "      <td>51868.0</td>\n",
       "      <td>19.6</td>\n",
       "      <td>54571.0</td>\n",
       "      <td>55255.0</td>\n",
       "      <td>55027.0</td>\n",
       "      <td>54792.0</td>\n",
       "      <td>...</td>\n",
       "      <td>2.400542</td>\n",
       "      <td>0.855766</td>\n",
       "      <td>0.397647</td>\n",
       "      <td>0.040314</td>\n",
       "      <td>11.995382</td>\n",
       "      <td>26.777959</td>\n",
       "      <td>0</td>\n",
       "      <td>0</td>\n",
       "      <td>1</td>\n",
       "      <td>0.0</td>\n",
       "    </tr>\n",
       "    <tr>\n",
       "      <th>1</th>\n",
       "      <td>1003</td>\n",
       "      <td>AL</td>\n",
       "      <td>Baldwin</td>\n",
       "      <td>14.2</td>\n",
       "      <td>47539.0</td>\n",
       "      <td>20.8</td>\n",
       "      <td>182265.0</td>\n",
       "      <td>186653.0</td>\n",
       "      <td>190403.0</td>\n",
       "      <td>195147.0</td>\n",
       "      <td>...</td>\n",
       "      <td>4.384824</td>\n",
       "      <td>0.735193</td>\n",
       "      <td>0.628755</td>\n",
       "      <td>0.043343</td>\n",
       "      <td>16.771185</td>\n",
       "      <td>22.987408</td>\n",
       "      <td>0</td>\n",
       "      <td>0</td>\n",
       "      <td>1</td>\n",
       "      <td>0.0</td>\n",
       "    </tr>\n",
       "    <tr>\n",
       "      <th>2</th>\n",
       "      <td>1005</td>\n",
       "      <td>AL</td>\n",
       "      <td>Barbour</td>\n",
       "      <td>28.2</td>\n",
       "      <td>30981.0</td>\n",
       "      <td>42.4</td>\n",
       "      <td>27457.0</td>\n",
       "      <td>27326.0</td>\n",
       "      <td>27132.0</td>\n",
       "      <td>26938.0</td>\n",
       "      <td>...</td>\n",
       "      <td>5.051535</td>\n",
       "      <td>0.389700</td>\n",
       "      <td>0.218524</td>\n",
       "      <td>0.087409</td>\n",
       "      <td>14.236807</td>\n",
       "      <td>21.906982</td>\n",
       "      <td>1</td>\n",
       "      <td>1</td>\n",
       "      <td>0</td>\n",
       "      <td>0.0</td>\n",
       "    </tr>\n",
       "    <tr>\n",
       "      <th>3</th>\n",
       "      <td>1007</td>\n",
       "      <td>AL</td>\n",
       "      <td>Bibb</td>\n",
       "      <td>23.1</td>\n",
       "      <td>39781.0</td>\n",
       "      <td>35.6</td>\n",
       "      <td>22915.0</td>\n",
       "      <td>22736.0</td>\n",
       "      <td>22645.0</td>\n",
       "      <td>22501.0</td>\n",
       "      <td>...</td>\n",
       "      <td>1.771765</td>\n",
       "      <td>0.096007</td>\n",
       "      <td>0.279293</td>\n",
       "      <td>0.030548</td>\n",
       "      <td>12.681650</td>\n",
       "      <td>22.696923</td>\n",
       "      <td>0</td>\n",
       "      <td>1</td>\n",
       "      <td>1</td>\n",
       "      <td>0.0</td>\n",
       "    </tr>\n",
       "    <tr>\n",
       "      <th>4</th>\n",
       "      <td>1009</td>\n",
       "      <td>AL</td>\n",
       "      <td>Blount</td>\n",
       "      <td>17.2</td>\n",
       "      <td>44392.0</td>\n",
       "      <td>26.6</td>\n",
       "      <td>57322.0</td>\n",
       "      <td>57707.0</td>\n",
       "      <td>57772.0</td>\n",
       "      <td>57746.0</td>\n",
       "      <td>...</td>\n",
       "      <td>8.070200</td>\n",
       "      <td>0.200621</td>\n",
       "      <td>0.497191</td>\n",
       "      <td>0.031402</td>\n",
       "      <td>14.722096</td>\n",
       "      <td>24.608353</td>\n",
       "      <td>0</td>\n",
       "      <td>0</td>\n",
       "      <td>1</td>\n",
       "      <td>0.0</td>\n",
       "    </tr>\n",
       "  </tbody>\n",
       "</table>\n",
       "<p>5 rows × 75 columns</p>\n",
       "</div>"
      ],
      "text/plain": [
       "   FIPS STATE   COUNTY  POVRATE13_ALL  MEDHHINC13  POVRATE13_CHILD  \\\n",
       "0  1001    AL  Autauga           13.5     51868.0             19.6   \n",
       "1  1003    AL  Baldwin           14.2     47539.0             20.8   \n",
       "2  1005    AL  Barbour           28.2     30981.0             42.4   \n",
       "3  1007    AL     Bibb           23.1     39781.0             35.6   \n",
       "4  1009    AL   Blount           17.2     44392.0             26.6   \n",
       "\n",
       "   2010_CENSUS_POP  POP_EST_2011  POP_EST_2012  POP_EST_2013    ...      \\\n",
       "0          54571.0       55255.0       55027.0       54792.0    ...       \n",
       "1         182265.0      186653.0      190403.0      195147.0    ...       \n",
       "2          27457.0       27326.0       27132.0       26938.0    ...       \n",
       "3          22915.0       22736.0       22645.0       22501.0    ...       \n",
       "4          57322.0       57707.0       57772.0       57746.0    ...       \n",
       "\n",
       "   PCT_HISP10  PCT_NHASIAN10  PCT_NHNA10  PCT_NHPI10  PCT_65OLDER10  \\\n",
       "0    2.400542       0.855766    0.397647    0.040314      11.995382   \n",
       "1    4.384824       0.735193    0.628755    0.043343      16.771185   \n",
       "2    5.051535       0.389700    0.218524    0.087409      14.236807   \n",
       "3    1.771765       0.096007    0.279293    0.030548      12.681650   \n",
       "4    8.070200       0.200621    0.497191    0.031402      14.722096   \n",
       "\n",
       "   PCT_18YOUNGER10  PERPOV10  PERCHLDPOV10  METRO13  POPLOSS10  \n",
       "0        26.777959         0             0        1        0.0  \n",
       "1        22.987408         0             0        1        0.0  \n",
       "2        21.906982         1             1        0        0.0  \n",
       "3        22.696923         0             1        1        0.0  \n",
       "4        24.608353         0             0        1        0.0  \n",
       "\n",
       "[5 rows x 75 columns]"
      ]
     },
     "execution_count": 24,
     "metadata": {},
     "output_type": "execute_result"
    }
   ],
   "source": [
    "master_df.head()"
   ]
  },
  {
   "cell_type": "markdown",
   "metadata": {
    "heading_collapsed": true
   },
   "source": [
    "# Exploratory Analysis"
   ]
  },
  {
   "cell_type": "markdown",
   "metadata": {
    "hidden": true
   },
   "source": [
    "Let's begin by exploring the distributions of some parameters. First, our target variable: adult obesity rate is the percent of the population with age > 20 and BMI > 30."
   ]
  },
  {
   "cell_type": "code",
   "execution_count": 25,
   "metadata": {
    "hidden": true
   },
   "outputs": [
    {
     "name": "stderr",
     "output_type": "stream",
     "text": [
      "/Users/jieunchoi/anaconda/envs/python36/lib/python3.6/site-packages/scipy/stats/stats.py:1713: FutureWarning: Using a non-tuple sequence for multidimensional indexing is deprecated; use `arr[tuple(seq)]` instead of `arr[seq]`. In the future this will be interpreted as an array index, `arr[np.array(seq)]`, which will result either in an error or a different result.\n",
      "  return np.add.reduce(sorted[indexer] * weights, axis=axis) / sumval\n"
     ]
    },
    {
     "data": {
      "text/plain": [
       "Text(0.5, 0, '2013 Obesity Rate [%]')"
      ]
     },
     "execution_count": 25,
     "metadata": {},
     "output_type": "execute_result"
    },
    {
     "data": {
      "image/png": "[encoded data removed]",
      "text/plain": [
       "<Figure size 432x288 with 1 Axes>"
      ]
     },
     "metadata": {
      "needs_background": "light"
     },
     "output_type": "display_data"
    }
   ],
   "source": [
    "s = sns.distplot(master_df['PCT_OBESE_ADULTS13'].dropna())\n",
    "s.set_xlabel('2013 Obesity Rate [%]')"
   ]
  },
  {
   "cell_type": "markdown",
   "metadata": {
    "hidden": true
   },
   "source": [
    "Let's look at some other parameter distributions. There's a pretty remarkable spread in the population size of the county (also, look how log-symmetric!). Adult diabetes rate is the percentage of the population with age > 20 and gestational diabetes (different from types 1 and 2). Poverty rate is the percentage of the population with income below the poverty threshold, which varies by family size, age of the head of the household, etc. Low access to store is defined as the percentage of the population living > 1 mile (> 10 miles) from the nearest supermarket or grocery store in an urban (rural) area. The last distribution is moderately skewed to higher % of low access to store."
   ]
  },
  {
   "cell_type": "code",
   "execution_count": 26,
   "metadata": {
    "hidden": true
   },
   "outputs": [
    {
     "data": {
      "image/png": "[encoded data removed]",
      "text/plain": [
       "<Figure size 1080x288 with 4 Axes>"
      ]
     },
     "metadata": {
      "needs_background": "light"
     },
     "output_type": "display_data"
    }
   ],
   "source": [
    "f, axes = plt.subplots(1,4,figsize=(15,4))\n",
    "s = sns.distplot(np.log10(master_df['2010_CENSUS_POP'].dropna()), ax=axes[0])\n",
    "s.set_xlabel('log(2010 Census Population)')\n",
    "s = sns.distplot(master_df['PCT_DIABETES_ADULTS13'].dropna(), ax=axes[1])\n",
    "s.set_xlabel('2013 Adult Diabetes Rate [%]')\n",
    "s = sns.distplot(master_df['POVRATE13_ALL'].dropna(), ax=axes[2])\n",
    "s.set_xlabel('2013 All Ages Poverty Rate [%]')\n",
    "s = sns.distplot(master_df['PCT_LACCESS_POP10'].dropna(), ax=axes[3])\n",
    "s.set_xlabel('2010 Low Access to Store [%]')\n",
    "f.tight_layout()"
   ]
  },
  {
   "cell_type": "code",
   "execution_count": 27,
   "metadata": {
    "hidden": true
   },
   "outputs": [
    {
     "name": "stdout",
     "output_type": "stream",
     "text": [
      "According to the 2010 Census, county population ranges from  Loving TX : 82 to Los Angeles CA : 9818605\n"
     ]
    }
   ],
   "source": [
    "min_pop_ind = master_df['2010_CENSUS_POP'].dropna().idxmin()\n",
    "max_pop_ind = master_df['2010_CENSUS_POP'].dropna().idxmax()\n",
    "\n",
    "print('According to the 2010 Census, county population ranges from ',\n",
    "      master_df['COUNTY'][min_pop_ind], master_df['STATE'][min_pop_ind],':',\n",
    "      int(min(master_df['2010_CENSUS_POP'].dropna())),\n",
    "        'to', \n",
    "      master_df['COUNTY'][max_pop_ind], master_df['STATE'][max_pop_ind],':',\n",
    "      int(max(master_df['2010_CENSUS_POP'].dropna())))"
   ]
  },
  {
   "cell_type": "markdown",
   "metadata": {
    "hidden": true
   },
   "source": [
    "We can also examine the prevalence of poverty broken down separately for metro/nonmetro counties and counties experiencing population loss over two decades."
   ]
  },
  {
   "cell_type": "code",
   "execution_count": 28,
   "metadata": {
    "hidden": true
   },
   "outputs": [
    {
     "data": {
      "text/plain": [
       "Text(0.5, 1.0, 'Metro/Persistent Childhood Poverty')"
      ]
     },
     "execution_count": 28,
     "metadata": {},
     "output_type": "execute_result"
    },
    {
     "data": {
      "image/png": "[encoded data removed]",
      "text/plain": [
       "<Figure size 576x576 with 4 Axes>"
      ]
     },
     "metadata": {
      "needs_background": "light"
     },
     "output_type": "display_data"
    }
   ],
   "source": [
    "g = sns.FacetGrid(master_df, row='METRO13', col='PERCHLDPOV10', height=4)\n",
    "g.map(sns.distplot, 'PCT_OBESE_ADULTS13').set_axis_labels(\"2013 Obesity Rate [%]\", \"pdf\")\n",
    "axes = g.axes.flatten()\n",
    "axes[0].set_title(\"Non-Metro/No Persistent Childhood Poverty\")\n",
    "axes[1].set_title(\"Non-Metro/Persistent Childhood Poverty\")\n",
    "axes[2].set_title(\"Metro/No Persistent Childhood Poverty\")\n",
    "axes[3].set_title(\"Metro/Persistent Childhood Poverty\")"
   ]
  },
  {
   "cell_type": "markdown",
   "metadata": {
    "hidden": true
   },
   "source": [
    "Let's now move onto more explicitly examining relationships between FEA factors and poverty. There appear to be some interesting trends and insights buried in the data. The positive trend between poverty and obesity rate is not too surprising based on our prior public health knowledge. There isn't a strong trend between the availability of farmers markets and poverty rate, but FMs do tend to be more common amongst wealthier areas. The lack of strong correlation between the prevalence of FF restaurants and poverty rate is pretty surprising. Areas with the highest poverty rates tend to be places with fewer seniors."
   ]
  },
  {
   "cell_type": "code",
   "execution_count": 29,
   "metadata": {
    "hidden": true
   },
   "outputs": [
    {
     "data": {
      "image/png": "[encoded data removed]",
      "text/plain": [
       "<Figure size 1080x288 with 4 Axes>"
      ]
     },
     "metadata": {
      "needs_background": "light"
     },
     "output_type": "display_data"
    }
   ],
   "source": [
    "f, axes = plt.subplots(1,4,figsize=(15,4))\n",
    "s = sns.scatterplot(y='PCT_OBESE_ADULTS13', x='POVRATE13_ALL', data=master_df, ax=axes[0], s=5)\n",
    "s.set_xlabel('2013 Poverty [%]')\n",
    "s.set_ylabel('2013 Adult Obesity [%]')\n",
    "s.set_xlim(0,50)\n",
    "s = sns.scatterplot(y='PCT_OBESE_ADULTS13', x='FMRKTPTH09', data=master_df, ax=axes[1], s=5)\n",
    "s.set_xlabel('2009 Farmers Market/1000')\n",
    "s.set_ylabel('2013 Adult Obesity [%]')\n",
    "s.set_xlim(0,0.3)\n",
    "s = sns.scatterplot(y='PCT_OBESE_ADULTS13', x='FFRPTH09', data=master_df, ax=axes[2], s=5)\n",
    "s.set_xlabel('2009 Fast-Food Restaurants/1000')\n",
    "s.set_xlim(0,2)\n",
    "s.set_ylabel('2013 Adult Obesity [%]')\n",
    "s = sns.scatterplot(y='PCT_OBESE_ADULTS13', x='PCT_65OLDER10', data=master_df, ax=axes[3], s=5)\n",
    "s.set_xlabel('2010 Population over 65 [%]')\n",
    "s.set_ylabel('2013 Adult Obesity [%]')\n",
    "s.set_xlim(0,30)\n",
    "\n",
    "f.tight_layout()"
   ]
  },
  {
   "cell_type": "markdown",
   "metadata": {
    "hidden": true
   },
   "source": [
    "Although it may seem totally trivial, let's inspect poverty rate vs. median household income. As expected, there's a negative trend, but the exact form of this scatterplot is pretty interesting. The steep rise below the poverty rate of 10% implies that even in low-poverty areas, there's actually a large variability in the overall affluence of the population (ranging from ~40k to over 100k). Similarly, the long tail in the poverty rate beyond 10% implies that there are relevant factors beyond the median income alone. At a fixed poverty rate, counties with higher % of white population seems to have higher median household incomes."
   ]
  },
  {
   "cell_type": "code",
   "execution_count": 30,
   "metadata": {
    "hidden": true
   },
   "outputs": [
    {
     "data": {
      "text/plain": [
       "Text(0, 0.5, '2013 Median Household Income')"
      ]
     },
     "execution_count": 30,
     "metadata": {},
     "output_type": "execute_result"
    },
    {
     "data": {
      "image/png": "[encoded data removed]",
      "text/plain": [
       "<Figure size 432x288 with 1 Axes>"
      ]
     },
     "metadata": {
      "needs_background": "light"
     },
     "output_type": "display_data"
    }
   ],
   "source": [
    "s = sns.scatterplot(x='POVRATE13_ALL', y='MEDHHINC13', hue='PCT_NHWHITE10', palette='Blues', hue_norm=(0,90), data=master_df, s=8)\n",
    "legend = s.legend()\n",
    "legend.texts[0].set_text(\"2010 Non-Hispanic White [%]\")\n",
    "s.set_xlabel('2013 Poverty, All Ages [%]')\n",
    "s.set_ylabel('2013 Median Household Income')\n"
   ]
  },
  {
   "cell_type": "markdown",
   "metadata": {
    "hidden": true
   },
   "source": [
    "Let's select a random subset of the counties and inspect the breakdown in race."
   ]
  },
  {
   "cell_type": "code",
   "execution_count": 31,
   "metadata": {
    "hidden": true
   },
   "outputs": [
    {
     "data": {
      "text/plain": [
       "Text(0, 0.5, '2010 Population [%]')"
      ]
     },
     "execution_count": 31,
     "metadata": {},
     "output_type": "execute_result"
    },
    {
     "data": {
      "image/png": "[encoded data removed]",
      "text/plain": [
       "<Figure size 1080x180 with 1 Axes>"
      ]
     },
     "metadata": {
      "needs_background": "light"
     },
     "output_type": "display_data"
    }
   ],
   "source": [
    "total_rows = np.shape(master_df)[1]\n",
    "rand_ind = random.sample(range(1,287), 6)\n",
    "\n",
    "plt.figure(figsize=(15,2.5))\n",
    "race_df = master_df.iloc[rand_ind,:][['FIPS', 'STATE', 'COUNTY', 'PCT_NHWHITE10', 'PCT_NHBLACK10', 'PCT_HISP10', 'PCT_NHASIAN10', 'PCT_NHNA10', 'PCT_NHPI10']].copy()\n",
    "\n",
    "race_df['COUNTY_STATE'] = race_df['COUNTY']+', '+race_df['STATE']\n",
    "race_df = race_df.drop(columns=['FIPS', 'STATE', 'COUNTY'])\n",
    "\n",
    "race_column_list = race_df.columns.drop('COUNTY_STATE')\n",
    "race_df = race_df.rename(columns=lambda x: x.split('PCT_')[1].split('10')[0] if x in race_column_list else x)\n",
    "race_column_list = race_df.columns.drop('COUNTY_STATE').drop('HISP')\n",
    "race_df = race_df.rename(columns=lambda x: x.split('NH')[1] if x in race_column_list else x)\n",
    "\n",
    "race_df = pd.melt(race_df, id_vars=['COUNTY_STATE'])\n",
    "s = sns.barplot(x='COUNTY_STATE', y='value', hue='variable', data=race_df)\n",
    "leg = plt.legend(bbox_to_anchor=(1.01, 1), loc=2, frameon=False)\n",
    "\n",
    "s.set_xlabel('County, State')\n",
    "s.set_ylabel('2010 Population [%]') "
   ]
  },
  {
   "cell_type": "markdown",
   "metadata": {
    "heading_collapsed": true
   },
   "source": [
    "# Additional Prepwork"
   ]
  },
  {
   "cell_type": "markdown",
   "metadata": {
    "hidden": true
   },
   "source": [
    "We have to do a few more things before we can throw the data at ML algorithms. We will also rename the data to X following the general convention, then split into training and test sets."
   ]
  },
  {
   "cell_type": "code",
   "execution_count": 32,
   "metadata": {
    "hidden": true
   },
   "outputs": [],
   "source": [
    "X = master_df.drop(axis=1, labels=['FIPS', 'STATE', 'COUNTY', 'PCT_OBESE_ADULTS08', 'PCT_OBESE_ADULTS13'])\n",
    "    \n",
    "columns_to_log = ['MEDHHINC13', '2010_CENSUS_POP', 'POP_EST_2011', 'POP_EST_2012', 'POP_EST_2013']\n",
    "for c in columns_to_log:\n",
    "    X = convert2log(c, X)\n",
    "y = master_df['PCT_OBESE_ADULTS13']"
   ]
  },
  {
   "cell_type": "code",
   "execution_count": 33,
   "metadata": {
    "hidden": true
   },
   "outputs": [],
   "source": [
    "X_train, X_test, y_train, y_test = model_selection.train_test_split(X, y, test_size=0.3, random_state=11)"
   ]
  },
  {
   "cell_type": "code",
   "execution_count": 34,
   "metadata": {
    "hidden": true
   },
   "outputs": [
    {
     "data": {
      "text/html": [
       "<div>\n",
       "<style scoped>\n",
       "    .dataframe tbody tr th:only-of-type {\n",
       "        vertical-align: middle;\n",
       "    }\n",
       "\n",
       "    .dataframe tbody tr th {\n",
       "        vertical-align: top;\n",
       "    }\n",
       "\n",
       "    .dataframe thead th {\n",
       "        text-align: right;\n",
       "    }\n",
       "</style>\n",
       "<table border=\"1\" class=\"dataframe\">\n",
       "  <thead>\n",
       "    <tr style=\"text-align: right;\">\n",
       "      <th></th>\n",
       "      <th>POVRATE13_ALL</th>\n",
       "      <th>POVRATE13_CHILD</th>\n",
       "      <th>PCT_LACCESS_POP10</th>\n",
       "      <th>PCT_LACCESS_LOWI10</th>\n",
       "      <th>PCT_LACCESS_HHNV10</th>\n",
       "      <th>PCT_LACCESS_CHILD10</th>\n",
       "      <th>PCT_LACCESS_SENIORS10</th>\n",
       "      <th>GROCPTH09</th>\n",
       "      <th>SUPERCPTH09</th>\n",
       "      <th>CONVSPTH09</th>\n",
       "      <th>...</th>\n",
       "      <th>PCT_18YOUNGER10</th>\n",
       "      <th>PERPOV10</th>\n",
       "      <th>PERCHLDPOV10</th>\n",
       "      <th>METRO13</th>\n",
       "      <th>POPLOSS10</th>\n",
       "      <th>LOG10_MEDHHINC13</th>\n",
       "      <th>LOG10_2010_CENSUS_POP</th>\n",
       "      <th>LOG10_POP_EST_2011</th>\n",
       "      <th>LOG10_POP_EST_2012</th>\n",
       "      <th>LOG10_POP_EST_2013</th>\n",
       "    </tr>\n",
       "  </thead>\n",
       "  <tbody>\n",
       "    <tr>\n",
       "      <th>count</th>\n",
       "      <td>2200.000000</td>\n",
       "      <td>2200.000000</td>\n",
       "      <td>2200.000000</td>\n",
       "      <td>2200.000000</td>\n",
       "      <td>2200.000000</td>\n",
       "      <td>2200.000000</td>\n",
       "      <td>2200.000000</td>\n",
       "      <td>2200.000000</td>\n",
       "      <td>2200.000000</td>\n",
       "      <td>2200.000000</td>\n",
       "      <td>...</td>\n",
       "      <td>2200.000000</td>\n",
       "      <td>2200.000000</td>\n",
       "      <td>2200.000000</td>\n",
       "      <td>2200.000000</td>\n",
       "      <td>2200.000000</td>\n",
       "      <td>2200.000000</td>\n",
       "      <td>2200.000000</td>\n",
       "      <td>2200.000000</td>\n",
       "      <td>2200.000000</td>\n",
       "      <td>2200.000000</td>\n",
       "    </tr>\n",
       "    <tr>\n",
       "      <th>mean</th>\n",
       "      <td>17.328364</td>\n",
       "      <td>24.668818</td>\n",
       "      <td>23.315421</td>\n",
       "      <td>8.265581</td>\n",
       "      <td>3.105805</td>\n",
       "      <td>5.417240</td>\n",
       "      <td>3.877370</td>\n",
       "      <td>0.267994</td>\n",
       "      <td>0.015562</td>\n",
       "      <td>0.598391</td>\n",
       "      <td>...</td>\n",
       "      <td>23.365729</td>\n",
       "      <td>0.118182</td>\n",
       "      <td>0.235455</td>\n",
       "      <td>0.372273</td>\n",
       "      <td>0.170455</td>\n",
       "      <td>4.649127</td>\n",
       "      <td>4.456335</td>\n",
       "      <td>4.457149</td>\n",
       "      <td>4.456972</td>\n",
       "      <td>4.456968</td>\n",
       "    </tr>\n",
       "    <tr>\n",
       "      <th>std</th>\n",
       "      <td>6.762851</td>\n",
       "      <td>9.735446</td>\n",
       "      <td>20.025920</td>\n",
       "      <td>8.040788</td>\n",
       "      <td>2.647865</td>\n",
       "      <td>4.781306</td>\n",
       "      <td>4.155462</td>\n",
       "      <td>0.227178</td>\n",
       "      <td>0.021037</td>\n",
       "      <td>0.310552</td>\n",
       "      <td>...</td>\n",
       "      <td>3.326151</td>\n",
       "      <td>0.322897</td>\n",
       "      <td>0.424379</td>\n",
       "      <td>0.483520</td>\n",
       "      <td>0.376117</td>\n",
       "      <td>0.102697</td>\n",
       "      <td>0.624096</td>\n",
       "      <td>0.625797</td>\n",
       "      <td>0.627658</td>\n",
       "      <td>0.629231</td>\n",
       "    </tr>\n",
       "    <tr>\n",
       "      <th>min</th>\n",
       "      <td>3.000000</td>\n",
       "      <td>3.400000</td>\n",
       "      <td>0.000000</td>\n",
       "      <td>0.000000</td>\n",
       "      <td>0.000000</td>\n",
       "      <td>0.000000</td>\n",
       "      <td>0.000000</td>\n",
       "      <td>0.000000</td>\n",
       "      <td>0.000000</td>\n",
       "      <td>0.000000</td>\n",
       "      <td>...</td>\n",
       "      <td>9.111539</td>\n",
       "      <td>0.000000</td>\n",
       "      <td>0.000000</td>\n",
       "      <td>0.000000</td>\n",
       "      <td>0.000000</td>\n",
       "      <td>4.333890</td>\n",
       "      <td>2.619093</td>\n",
       "      <td>2.640481</td>\n",
       "      <td>2.643453</td>\n",
       "      <td>2.629410</td>\n",
       "    </tr>\n",
       "    <tr>\n",
       "      <th>25%</th>\n",
       "      <td>12.400000</td>\n",
       "      <td>17.400000</td>\n",
       "      <td>10.601750</td>\n",
       "      <td>3.392157</td>\n",
       "      <td>1.626965</td>\n",
       "      <td>2.326342</td>\n",
       "      <td>1.562656</td>\n",
       "      <td>0.149913</td>\n",
       "      <td>0.000000</td>\n",
       "      <td>0.406375</td>\n",
       "      <td>...</td>\n",
       "      <td>21.364970</td>\n",
       "      <td>0.000000</td>\n",
       "      <td>0.000000</td>\n",
       "      <td>0.000000</td>\n",
       "      <td>0.000000</td>\n",
       "      <td>4.579458</td>\n",
       "      <td>4.047460</td>\n",
       "      <td>4.046466</td>\n",
       "      <td>4.046602</td>\n",
       "      <td>4.044148</td>\n",
       "    </tr>\n",
       "    <tr>\n",
       "      <th>50%</th>\n",
       "      <td>16.450000</td>\n",
       "      <td>24.000000</td>\n",
       "      <td>19.582397</td>\n",
       "      <td>6.134059</td>\n",
       "      <td>2.573493</td>\n",
       "      <td>4.406053</td>\n",
       "      <td>2.835992</td>\n",
       "      <td>0.206264</td>\n",
       "      <td>0.007145</td>\n",
       "      <td>0.548347</td>\n",
       "      <td>...</td>\n",
       "      <td>23.344353</td>\n",
       "      <td>0.000000</td>\n",
       "      <td>0.000000</td>\n",
       "      <td>0.000000</td>\n",
       "      <td>0.000000</td>\n",
       "      <td>4.642830</td>\n",
       "      <td>4.412444</td>\n",
       "      <td>4.414388</td>\n",
       "      <td>4.413266</td>\n",
       "      <td>4.412477</td>\n",
       "    </tr>\n",
       "    <tr>\n",
       "      <th>75%</th>\n",
       "      <td>21.200000</td>\n",
       "      <td>30.900000</td>\n",
       "      <td>29.459602</td>\n",
       "      <td>10.214310</td>\n",
       "      <td>3.816298</td>\n",
       "      <td>6.886496</td>\n",
       "      <td>4.519518</td>\n",
       "      <td>0.310318</td>\n",
       "      <td>0.025588</td>\n",
       "      <td>0.721957</td>\n",
       "      <td>...</td>\n",
       "      <td>25.036688</td>\n",
       "      <td>0.000000</td>\n",
       "      <td>0.000000</td>\n",
       "      <td>1.000000</td>\n",
       "      <td>0.000000</td>\n",
       "      <td>4.711181</td>\n",
       "      <td>4.813372</td>\n",
       "      <td>4.816455</td>\n",
       "      <td>4.818016</td>\n",
       "      <td>4.818539</td>\n",
       "    </tr>\n",
       "    <tr>\n",
       "      <th>max</th>\n",
       "      <td>55.100000</td>\n",
       "      <td>64.700000</td>\n",
       "      <td>100.000001</td>\n",
       "      <td>72.274456</td>\n",
       "      <td>50.178231</td>\n",
       "      <td>33.610607</td>\n",
       "      <td>29.146426</td>\n",
       "      <td>3.073770</td>\n",
       "      <td>0.256213</td>\n",
       "      <td>3.121748</td>\n",
       "      <td>...</td>\n",
       "      <td>40.126925</td>\n",
       "      <td>1.000000</td>\n",
       "      <td>1.000000</td>\n",
       "      <td>1.000000</td>\n",
       "      <td>1.000000</td>\n",
       "      <td>5.070703</td>\n",
       "      <td>6.992050</td>\n",
       "      <td>6.995129</td>\n",
       "      <td>6.997978</td>\n",
       "      <td>7.000670</td>\n",
       "    </tr>\n",
       "  </tbody>\n",
       "</table>\n",
       "<p>8 rows × 70 columns</p>\n",
       "</div>"
      ],
      "text/plain": [
       "       POVRATE13_ALL  POVRATE13_CHILD  PCT_LACCESS_POP10  PCT_LACCESS_LOWI10  \\\n",
       "count    2200.000000      2200.000000        2200.000000         2200.000000   \n",
       "mean       17.328364        24.668818          23.315421            8.265581   \n",
       "std         6.762851         9.735446          20.025920            8.040788   \n",
       "min         3.000000         3.400000           0.000000            0.000000   \n",
       "25%        12.400000        17.400000          10.601750            3.392157   \n",
       "50%        16.450000        24.000000          19.582397            6.134059   \n",
       "75%        21.200000        30.900000          29.459602           10.214310   \n",
       "max        55.100000        64.700000         100.000001           72.274456   \n",
       "\n",
       "       PCT_LACCESS_HHNV10  PCT_LACCESS_CHILD10  PCT_LACCESS_SENIORS10  \\\n",
       "count         2200.000000          2200.000000            2200.000000   \n",
       "mean             3.105805             5.417240               3.877370   \n",
       "std              2.647865             4.781306               4.155462   \n",
       "min              0.000000             0.000000               0.000000   \n",
       "25%              1.626965             2.326342               1.562656   \n",
       "50%              2.573493             4.406053               2.835992   \n",
       "75%              3.816298             6.886496               4.519518   \n",
       "max             50.178231            33.610607              29.146426   \n",
       "\n",
       "         GROCPTH09  SUPERCPTH09   CONVSPTH09         ...          \\\n",
       "count  2200.000000  2200.000000  2200.000000         ...           \n",
       "mean      0.267994     0.015562     0.598391         ...           \n",
       "std       0.227178     0.021037     0.310552         ...           \n",
       "min       0.000000     0.000000     0.000000         ...           \n",
       "25%       0.149913     0.000000     0.406375         ...           \n",
       "50%       0.206264     0.007145     0.548347         ...           \n",
       "75%       0.310318     0.025588     0.721957         ...           \n",
       "max       3.073770     0.256213     3.121748         ...           \n",
       "\n",
       "       PCT_18YOUNGER10     PERPOV10  PERCHLDPOV10      METRO13    POPLOSS10  \\\n",
       "count      2200.000000  2200.000000   2200.000000  2200.000000  2200.000000   \n",
       "mean         23.365729     0.118182      0.235455     0.372273     0.170455   \n",
       "std           3.326151     0.322897      0.424379     0.483520     0.376117   \n",
       "min           9.111539     0.000000      0.000000     0.000000     0.000000   \n",
       "25%          21.364970     0.000000      0.000000     0.000000     0.000000   \n",
       "50%          23.344353     0.000000      0.000000     0.000000     0.000000   \n",
       "75%          25.036688     0.000000      0.000000     1.000000     0.000000   \n",
       "max          40.126925     1.000000      1.000000     1.000000     1.000000   \n",
       "\n",
       "       LOG10_MEDHHINC13  LOG10_2010_CENSUS_POP  LOG10_POP_EST_2011  \\\n",
       "count       2200.000000            2200.000000         2200.000000   \n",
       "mean           4.649127               4.456335            4.457149   \n",
       "std            0.102697               0.624096            0.625797   \n",
       "min            4.333890               2.619093            2.640481   \n",
       "25%            4.579458               4.047460            4.046466   \n",
       "50%            4.642830               4.412444            4.414388   \n",
       "75%            4.711181               4.813372            4.816455   \n",
       "max            5.070703               6.992050            6.995129   \n",
       "\n",
       "       LOG10_POP_EST_2012  LOG10_POP_EST_2013  \n",
       "count         2200.000000         2200.000000  \n",
       "mean             4.456972            4.456968  \n",
       "std              0.627658            0.629231  \n",
       "min              2.643453            2.629410  \n",
       "25%              4.046602            4.044148  \n",
       "50%              4.413266            4.412477  \n",
       "75%              4.818016            4.818539  \n",
       "max              6.997978            7.000670  \n",
       "\n",
       "[8 rows x 70 columns]"
      ]
     },
     "execution_count": 34,
     "metadata": {},
     "output_type": "execute_result"
    }
   ],
   "source": [
    "X_train.describe()"
   ]
  },
  {
   "cell_type": "markdown",
   "metadata": {
    "hidden": true
   },
   "source": [
    "Next, standardize the features so they are all on the same order of magnitude. Apply the same transformation to the test set."
   ]
  },
  {
   "cell_type": "code",
   "execution_count": 35,
   "metadata": {
    "hidden": true
   },
   "outputs": [],
   "source": [
    "scaler = preprocessing.RobustScaler()\n",
    "scaler.fit(X_train)\n",
    "X_scaled = pd.DataFrame(scaler.transform(X_train), index=X_train.index, columns=X_train.columns)\n",
    "X_test = pd.DataFrame(scaler.transform(X_test), index=X_test.index, columns=X_test.columns)"
   ]
  },
  {
   "cell_type": "markdown",
   "metadata": {
    "heading_collapsed": true,
    "hidden": true
   },
   "source": [
    "## Feature Selection"
   ]
  },
  {
   "cell_type": "markdown",
   "metadata": {
    "hidden": true
   },
   "source": [
    "We probably don't need all 70 columns to predict the obesity rate, as there are columns that contain very little predictive power (i.e., noise) or are redundant with one another. \n",
    "\n",
    "For the first problem, we can try powerful techniques like PCA to try to reduce the dimensionality, but in the process, PCA generates new features that are not very easy to interpret. With 70 columns, we're not really suffering from computational issues, so we won't focus too much on paring down on the # of features.\n",
    "\n",
    "For the second problem, let's see if we can gain some insight from two of the ML algorithms, Linear Regression and Random Forest Regression.\n",
    "\n",
    "The coefficients fit from linear regression can be interpreted in an intuitive way. Features with large coefficients influence the prediction, or our target variable, more strongly. Unfortunately, here the features that are dominating with the biggest coefficients are the population data, because they are highly correlated amongst themselves. We will need to do some smart feature selection to deal with these collinearities."
   ]
  },
  {
   "cell_type": "code",
   "execution_count": 36,
   "metadata": {
    "hidden": true
   },
   "outputs": [
    {
     "data": {
      "text/plain": [
       "Text(0, 0.5, 'Coefficients')"
      ]
     },
     "execution_count": 36,
     "metadata": {},
     "output_type": "execute_result"
    },
    {
     "data": {
      "image/png": "[encoded data removed]",
      "text/plain": [
       "<Figure size 576x360 with 2 Axes>"
      ]
     },
     "metadata": {
      "needs_background": "light"
     },
     "output_type": "display_data"
    }
   ],
   "source": [
    "lr = LinearRegression()\n",
    "lr.fit(X_scaled, y_train)\n",
    "\n",
    "coef_neg = pd.Series(lr.coef_.reshape(-1,), index=X_scaled.columns).sort_values()[:10]\n",
    "coef_pos = pd.Series(lr.coef_.reshape(-1,), index=X_scaled.columns).sort_values()[-10:]\n",
    "\n",
    "f, axes = plt.subplots(ncols=1, nrows=2, figsize=(8, 5))\n",
    "s = sns.barplot(x=coef_pos.index, y=coef_pos.values, ax=axes[0])\n",
    "dummy = s.set_xticklabels(s.get_xticklabels(), rotation=50, ha='left')\n",
    "s.set_ylabel('Coefficients')\n",
    "\n",
    "axes[0].xaxis.set_ticks_position('top')\n",
    "s = sns.barplot(x=coef_neg.index, y=coef_neg.values, ax=axes[1])\n",
    "dummy = s.set_xticklabels(s.get_xticklabels(), rotation=50, ha='right')\n",
    "s.set_ylabel('Coefficients')"
   ]
  },
  {
   "cell_type": "markdown",
   "metadata": {
    "hidden": true
   },
   "source": [
    "Here's another way of inspecting feature importance with RF. This method doesn't appear to be strongly sensitive to collinearities in the data, as we do not see the population data appearing in the top 10. Unsurprisingly, diabetes rate seems to be a strong predictor of the obesity rate. Many of the other features in the top 10 are related to the restaurant industry."
   ]
  },
  {
   "cell_type": "code",
   "execution_count": 37,
   "metadata": {
    "hidden": true
   },
   "outputs": [
    {
     "name": "stderr",
     "output_type": "stream",
     "text": [
      "/Users/jieunchoi/anaconda/envs/python36/lib/python3.6/site-packages/sklearn/ensemble/forest.py:246: FutureWarning: The default value of n_estimators will change from 10 in version 0.20 to 100 in 0.22.\n",
      "  \"10 in version 0.20 to 100 in 0.22.\", FutureWarning)\n"
     ]
    },
    {
     "data": {
      "image/png": "[encoded data removed]",
      "text/plain": [
       "<Figure size 432x288 with 1 Axes>"
      ]
     },
     "metadata": {
      "needs_background": "light"
     },
     "output_type": "display_data"
    }
   ],
   "source": [
    "rf = RandomForestRegressor()\n",
    "rf.fit(X_scaled, y_train)\n",
    "\n",
    "feat_imp = rf.feature_importances_\n",
    "feat_imp_ind = np.argsort(feat_imp)[-10:]\n",
    "\n",
    "s = sns.barplot(x=feat_imp[feat_imp_ind], y=X_train.columns[feat_imp_ind])"
   ]
  },
  {
   "cell_type": "markdown",
   "metadata": {
    "heading_collapsed": true,
    "hidden": true
   },
   "source": [
    "## Dealing with Collinearity\n",
    "\n",
    "We will remove feature columns with correlation coefficient > 0.6. We're using a handy code snippet taken directly from [here](https://chrisalbon.com/machine_learning/feature_selection/drop_highly_correlated_features/)."
   ]
  },
  {
   "cell_type": "code",
   "execution_count": 38,
   "metadata": {
    "hidden": true
   },
   "outputs": [],
   "source": [
    "corr_matrix = X_scaled.corr().abs()\n",
    "upper = corr_matrix.where(np.triu(np.ones(corr_matrix.shape), k=1).astype(np.bool))\n",
    "to_drop = [column for column in upper.columns if any(upper[column] > 0.8)]"
   ]
  },
  {
   "cell_type": "code",
   "execution_count": 39,
   "metadata": {
    "hidden": true
   },
   "outputs": [
    {
     "data": {
      "text/html": [
       "<div>\n",
       "<style scoped>\n",
       "    .dataframe tbody tr th:only-of-type {\n",
       "        vertical-align: middle;\n",
       "    }\n",
       "\n",
       "    .dataframe tbody tr th {\n",
       "        vertical-align: top;\n",
       "    }\n",
       "\n",
       "    .dataframe thead th {\n",
       "        text-align: right;\n",
       "    }\n",
       "</style>\n",
       "<table border=\"1\" class=\"dataframe\">\n",
       "  <thead>\n",
       "    <tr style=\"text-align: right;\">\n",
       "      <th></th>\n",
       "      <th>POVRATE13_ALL</th>\n",
       "      <th>PCT_LACCESS_POP10</th>\n",
       "      <th>PCT_LACCESS_HHNV10</th>\n",
       "      <th>GROCPTH09</th>\n",
       "      <th>SUPERCPTH09</th>\n",
       "      <th>CONVSPTH09</th>\n",
       "      <th>SPECSPTH09</th>\n",
       "      <th>SNAPSPTH12</th>\n",
       "      <th>WICSPTH08</th>\n",
       "      <th>FFRPTH09</th>\n",
       "      <th>...</th>\n",
       "      <th>PCT_NHASIAN10</th>\n",
       "      <th>PCT_NHNA10</th>\n",
       "      <th>PCT_NHPI10</th>\n",
       "      <th>PCT_65OLDER10</th>\n",
       "      <th>PCT_18YOUNGER10</th>\n",
       "      <th>PERPOV10</th>\n",
       "      <th>PERCHLDPOV10</th>\n",
       "      <th>METRO13</th>\n",
       "      <th>POPLOSS10</th>\n",
       "      <th>LOG10_2010_CENSUS_POP</th>\n",
       "    </tr>\n",
       "  </thead>\n",
       "  <tbody>\n",
       "    <tr>\n",
       "      <th>1573</th>\n",
       "      <td>0.812500</td>\n",
       "      <td>0.141498</td>\n",
       "      <td>0.609795</td>\n",
       "      <td>-0.397385</td>\n",
       "      <td>-0.279239</td>\n",
       "      <td>0.294687</td>\n",
       "      <td>-0.523001</td>\n",
       "      <td>0.271296</td>\n",
       "      <td>-0.238812</td>\n",
       "      <td>-0.214735</td>\n",
       "      <td>...</td>\n",
       "      <td>-0.218055</td>\n",
       "      <td>1.322681</td>\n",
       "      <td>-0.643726</td>\n",
       "      <td>0.620716</td>\n",
       "      <td>0.029835</td>\n",
       "      <td>1.0</td>\n",
       "      <td>1.0</td>\n",
       "      <td>0.0</td>\n",
       "      <td>0.0</td>\n",
       "      <td>-0.343675</td>\n",
       "    </tr>\n",
       "    <tr>\n",
       "      <th>760</th>\n",
       "      <td>-0.539773</td>\n",
       "      <td>1.018532</td>\n",
       "      <td>-0.553079</td>\n",
       "      <td>-0.752311</td>\n",
       "      <td>0.437535</td>\n",
       "      <td>-0.768965</td>\n",
       "      <td>-0.013949</td>\n",
       "      <td>-0.749190</td>\n",
       "      <td>-0.637271</td>\n",
       "      <td>0.136269</td>\n",
       "      <td>...</td>\n",
       "      <td>1.024779</td>\n",
       "      <td>-0.199263</td>\n",
       "      <td>-0.115069</td>\n",
       "      <td>-0.624709</td>\n",
       "      <td>0.257894</td>\n",
       "      <td>0.0</td>\n",
       "      <td>0.0</td>\n",
       "      <td>1.0</td>\n",
       "      <td>0.0</td>\n",
       "      <td>1.048824</td>\n",
       "    </tr>\n",
       "    <tr>\n",
       "      <th>1902</th>\n",
       "      <td>-0.494318</td>\n",
       "      <td>0.146805</td>\n",
       "      <td>-0.460261</td>\n",
       "      <td>-0.294047</td>\n",
       "      <td>1.275201</td>\n",
       "      <td>-0.333187</td>\n",
       "      <td>0.558428</td>\n",
       "      <td>-0.281369</td>\n",
       "      <td>0.072179</td>\n",
       "      <td>0.763801</td>\n",
       "      <td>...</td>\n",
       "      <td>2.084840</td>\n",
       "      <td>-0.043463</td>\n",
       "      <td>0.300918</td>\n",
       "      <td>-0.841065</td>\n",
       "      <td>1.105480</td>\n",
       "      <td>0.0</td>\n",
       "      <td>0.0</td>\n",
       "      <td>1.0</td>\n",
       "      <td>0.0</td>\n",
       "      <td>1.094124</td>\n",
       "    </tr>\n",
       "    <tr>\n",
       "      <th>2131</th>\n",
       "      <td>1.585227</td>\n",
       "      <td>-0.679287</td>\n",
       "      <td>0.418206</td>\n",
       "      <td>0.378265</td>\n",
       "      <td>1.459493</td>\n",
       "      <td>-0.045846</td>\n",
       "      <td>-0.523001</td>\n",
       "      <td>0.536475</td>\n",
       "      <td>0.229981</td>\n",
       "      <td>-0.686105</td>\n",
       "      <td>...</td>\n",
       "      <td>0.144181</td>\n",
       "      <td>97.223519</td>\n",
       "      <td>-0.520171</td>\n",
       "      <td>-0.518391</td>\n",
       "      <td>1.274891</td>\n",
       "      <td>1.0</td>\n",
       "      <td>1.0</td>\n",
       "      <td>0.0</td>\n",
       "      <td>0.0</td>\n",
       "      <td>-0.074086</td>\n",
       "    </tr>\n",
       "    <tr>\n",
       "      <th>283</th>\n",
       "      <td>-0.119318</td>\n",
       "      <td>0.635286</td>\n",
       "      <td>-0.634048</td>\n",
       "      <td>-0.611245</td>\n",
       "      <td>0.513752</td>\n",
       "      <td>-0.623109</td>\n",
       "      <td>0.603359</td>\n",
       "      <td>-0.961243</td>\n",
       "      <td>-0.652333</td>\n",
       "      <td>0.348544</td>\n",
       "      <td>...</td>\n",
       "      <td>0.360210</td>\n",
       "      <td>0.729245</td>\n",
       "      <td>2.221486</td>\n",
       "      <td>-0.133125</td>\n",
       "      <td>0.049276</td>\n",
       "      <td>0.0</td>\n",
       "      <td>0.0</td>\n",
       "      <td>1.0</td>\n",
       "      <td>0.0</td>\n",
       "      <td>0.984518</td>\n",
       "    </tr>\n",
       "  </tbody>\n",
       "</table>\n",
       "<p>5 rows × 54 columns</p>\n",
       "</div>"
      ],
      "text/plain": [
       "      POVRATE13_ALL  PCT_LACCESS_POP10  PCT_LACCESS_HHNV10  GROCPTH09  \\\n",
       "1573       0.812500           0.141498            0.609795  -0.397385   \n",
       "760       -0.539773           1.018532           -0.553079  -0.752311   \n",
       "1902      -0.494318           0.146805           -0.460261  -0.294047   \n",
       "2131       1.585227          -0.679287            0.418206   0.378265   \n",
       "283       -0.119318           0.635286           -0.634048  -0.611245   \n",
       "\n",
       "      SUPERCPTH09  CONVSPTH09  SPECSPTH09  SNAPSPTH12  WICSPTH08  FFRPTH09  \\\n",
       "1573    -0.279239    0.294687   -0.523001    0.271296  -0.238812 -0.214735   \n",
       "760      0.437535   -0.768965   -0.013949   -0.749190  -0.637271  0.136269   \n",
       "1902     1.275201   -0.333187    0.558428   -0.281369   0.072179  0.763801   \n",
       "2131     1.459493   -0.045846   -0.523001    0.536475   0.229981 -0.686105   \n",
       "283      0.513752   -0.623109    0.603359   -0.961243  -0.652333  0.348544   \n",
       "\n",
       "              ...            PCT_NHASIAN10  PCT_NHNA10  PCT_NHPI10  \\\n",
       "1573          ...                -0.218055    1.322681   -0.643726   \n",
       "760           ...                 1.024779   -0.199263   -0.115069   \n",
       "1902          ...                 2.084840   -0.043463    0.300918   \n",
       "2131          ...                 0.144181   97.223519   -0.520171   \n",
       "283           ...                 0.360210    0.729245    2.221486   \n",
       "\n",
       "      PCT_65OLDER10  PCT_18YOUNGER10  PERPOV10  PERCHLDPOV10  METRO13  \\\n",
       "1573       0.620716         0.029835       1.0           1.0      0.0   \n",
       "760       -0.624709         0.257894       0.0           0.0      1.0   \n",
       "1902      -0.841065         1.105480       0.0           0.0      1.0   \n",
       "2131      -0.518391         1.274891       1.0           1.0      0.0   \n",
       "283       -0.133125         0.049276       0.0           0.0      1.0   \n",
       "\n",
       "      POPLOSS10  LOG10_2010_CENSUS_POP  \n",
       "1573        0.0              -0.343675  \n",
       "760         0.0               1.048824  \n",
       "1902        0.0               1.094124  \n",
       "2131        0.0              -0.074086  \n",
       "283         0.0               0.984518  \n",
       "\n",
       "[5 rows x 54 columns]"
      ]
     },
     "execution_count": 39,
     "metadata": {},
     "output_type": "execute_result"
    }
   ],
   "source": [
    "X_scaled = X_scaled.drop(columns=to_drop, axis=1)\n",
    "X_test = X_test.drop(columns=to_drop, axis=1) #apply to the test set also so we don't forget later!\n",
    "X_scaled.head()"
   ]
  },
  {
   "cell_type": "markdown",
   "metadata": {
    "hidden": true
   },
   "source": [
    "Now redo the checks from above."
   ]
  },
  {
   "cell_type": "code",
   "execution_count": 40,
   "metadata": {
    "hidden": true
   },
   "outputs": [
    {
     "data": {
      "text/plain": [
       "Text(0, 0.5, 'Coefficients')"
      ]
     },
     "execution_count": 40,
     "metadata": {},
     "output_type": "execute_result"
    },
    {
     "data": {
      "image/png": "[encoded data removed]",
      "text/plain": [
       "<Figure size 576x360 with 2 Axes>"
      ]
     },
     "metadata": {
      "needs_background": "light"
     },
     "output_type": "display_data"
    }
   ],
   "source": [
    "lr = LinearRegression()\n",
    "lr.fit(X_scaled, y_train)\n",
    "\n",
    "coef_neg = pd.Series(lr.coef_.reshape(-1,), index=X_scaled.columns).sort_values()[:10]\n",
    "coef_pos = pd.Series(lr.coef_.reshape(-1,), index=X_scaled.columns).sort_values()[-10:]\n",
    "\n",
    "f, axes = plt.subplots(ncols=1, nrows=2, figsize=(8, 5))\n",
    "s = sns.barplot(x=coef_pos.index, y=coef_pos.values, ax=axes[0])\n",
    "dummy = s.set_xticklabels(s.get_xticklabels(), rotation=50, ha='left')\n",
    "s.set_ylabel('Coefficients')\n",
    "\n",
    "axes[0].xaxis.set_ticks_position('top')\n",
    "s = sns.barplot(x=coef_neg.index, y=coef_neg.values, ax=axes[1])\n",
    "dummy = s.set_xticklabels(s.get_xticklabels(), rotation=50, ha='right')\n",
    "s.set_ylabel('Coefficients')"
   ]
  },
  {
   "cell_type": "code",
   "execution_count": 41,
   "metadata": {
    "hidden": true
   },
   "outputs": [
    {
     "name": "stderr",
     "output_type": "stream",
     "text": [
      "/Users/jieunchoi/anaconda/envs/python36/lib/python3.6/site-packages/sklearn/ensemble/forest.py:246: FutureWarning: The default value of n_estimators will change from 10 in version 0.20 to 100 in 0.22.\n",
      "  \"10 in version 0.20 to 100 in 0.22.\", FutureWarning)\n"
     ]
    },
    {
     "data": {
      "image/png": "[encoded data removed]",
      "text/plain": [
       "<Figure size 432x288 with 1 Axes>"
      ]
     },
     "metadata": {
      "needs_background": "light"
     },
     "output_type": "display_data"
    }
   ],
   "source": [
    "rf = RandomForestRegressor()\n",
    "rf.fit(X_scaled, y_train)\n",
    "\n",
    "feat_imp = rf.feature_importances_\n",
    "feat_imp_ind = np.argsort(feat_imp)[-10:]\n",
    "\n",
    "s = sns.barplot(x=feat_imp[feat_imp_ind], y=X_train.columns[feat_imp_ind])"
   ]
  },
  {
   "cell_type": "markdown",
   "metadata": {},
   "source": [
    "# Training ML algorithms"
   ]
  },
  {
   "cell_type": "markdown",
   "metadata": {},
   "source": [
    "## Establishing a Baseline"
   ]
  },
  {
   "cell_type": "markdown",
   "metadata": {},
   "source": [
    "Before we proceed, let's first establish a baseline performance to compare with subsequent results. A very simple baseline guess is the median of the target values. "
   ]
  },
  {
   "cell_type": "code",
   "execution_count": 42,
   "metadata": {},
   "outputs": [],
   "source": [
    "def mse(y_true, y_pred):\n",
    "    mse = np.mean((y_true-y_pred)**2.0)\n",
    "    return mse"
   ]
  },
  {
   "cell_type": "code",
   "execution_count": 43,
   "metadata": {},
   "outputs": [
    {
     "name": "stdout",
     "output_type": "stream",
     "text": [
      "MSE: 21.16\n"
     ]
    }
   ],
   "source": [
    "y_simple_guess = np.median(y_train)\n",
    "print(\"MSE: {:3.2f}\".format(mse(y_test, y_simple_guess)))"
   ]
  },
  {
   "cell_type": "markdown",
   "metadata": {},
   "source": [
    "We will test the following four ML algorithms.\n",
    "\n",
    "- Linear Regression\n",
    "- Gradient Boosting\n",
    "- Random Forest\n",
    "- Suppert Vector Machine"
   ]
  },
  {
   "cell_type": "code",
   "execution_count": 44,
   "metadata": {},
   "outputs": [],
   "source": [
    "model_list = {'LR':LinearRegression(), 'KNN':KNeighborsRegressor(), \\\n",
    "              'GBR':GradientBoostingRegressor(), 'RF':RandomForestRegressor(), 'SVM':SVR()}"
   ]
  },
  {
   "cell_type": "code",
   "execution_count": 45,
   "metadata": {},
   "outputs": [
    {
     "name": "stdout",
     "output_type": "stream",
     "text": [
      "LR, MSE: 7.58\n",
      "KNN, MSE: 9.24\n",
      "GBR, MSE: 6.16\n"
     ]
    },
    {
     "name": "stderr",
     "output_type": "stream",
     "text": [
      "/Users/jieunchoi/anaconda/envs/python36/lib/python3.6/site-packages/sklearn/ensemble/forest.py:246: FutureWarning: The default value of n_estimators will change from 10 in version 0.20 to 100 in 0.22.\n",
      "  \"10 in version 0.20 to 100 in 0.22.\", FutureWarning)\n"
     ]
    },
    {
     "name": "stdout",
     "output_type": "stream",
     "text": [
      "RF, MSE: 6.51\n"
     ]
    },
    {
     "name": "stderr",
     "output_type": "stream",
     "text": [
      "/Users/jieunchoi/anaconda/envs/python36/lib/python3.6/site-packages/sklearn/svm/base.py:196: FutureWarning: The default value of gamma will change from 'auto' to 'scale' in version 0.22 to account better for unscaled features. Set gamma explicitly to 'auto' or 'scale' to avoid this warning.\n",
      "  \"avoid this warning.\", FutureWarning)\n"
     ]
    },
    {
     "name": "stdout",
     "output_type": "stream",
     "text": [
      "SVM, MSE: 9.02\n"
     ]
    }
   ],
   "source": [
    "for m in model_list.keys():\n",
    "    clf = model_list[m]\n",
    "    clf.fit(X_scaled, y_train)\n",
    "    y_pred = clf.predict(X_test)\n",
    "    print(m+\", MSE: {:3.2f}\".format(mse(y_test, y_pred)))"
   ]
  },
  {
   "cell_type": "markdown",
   "metadata": {},
   "source": [
    "## Hyperparameter Tuning"
   ]
  },
  {
   "cell_type": "markdown",
   "metadata": {},
   "source": [
    "To do."
   ]
  }
 ],
 "metadata": {
  "kernelspec": {
   "display_name": "Python 3",
   "language": "python",
   "name": "python3"
  },
  "language_info": {
   "codemirror_mode": {
    "name": "ipython",
    "version": 3
   },
   "file_extension": ".py",
   "mimetype": "text/x-python",
   "name": "python",
   "nbconvert_exporter": "python",
   "pygments_lexer": "ipython3",
   "version": "3.6.6"
  },
  "toc": {
   "base_numbering": "1",
   "nav_menu": {},
   "number_sections": false,
   "sideBar": true,
   "skip_h1_title": false,
   "title_cell": "Table of Contents",
   "title_sidebar": "Contents",
   "toc_cell": false,
   "toc_position": {
    "height": "calc(100% - 180px)",
    "left": "10px",
    "top": "150px",
    "width": "225px"
   },
   "toc_section_display": true,
   "toc_window_display": true
  }
 },
 "nbformat": 4,
 "nbformat_minor": 2
}
